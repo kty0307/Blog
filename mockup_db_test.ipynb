{
  "nbformat": 4,
  "nbformat_minor": 0,
  "metadata": {
    "colab": {
      "provenance": [],
      "authorship_tag": "ABX9TyN249udUiYj2kA3qvufFEwk",
      "include_colab_link": true
    },
    "kernelspec": {
      "name": "python3",
      "display_name": "Python 3"
    },
    "language_info": {
      "name": "python"
    }
  },
  "cells": [
    {
      "cell_type": "markdown",
      "metadata": {
        "id": "view-in-github",
        "colab_type": "text"
      },
      "source": [
        "<a href=\"https://colab.research.google.com/github/kty0307/Blog/blob/main/mockup_db_test.ipynb\" target=\"_parent\"><img src=\"https://colab.research.google.com/assets/colab-badge.svg\" alt=\"Open In Colab\"/></a>"
      ]
    },
    {
      "cell_type": "markdown",
      "metadata": {
        "id": "c9b13a4e"
      },
      "source": [
        "# Task\n",
        "BigQuery 라이브러리 설치, 인증 설정, 테이블 로딩을 위한 초기 코드를 작성해줘."
      ]
    },
    {
      "cell_type": "markdown",
      "metadata": {
        "id": "a40d3330"
      },
      "source": [
        "## 라이브러리 설치\n",
        "\n",
        "### Subtask:\n",
        "Google Cloud BigQuery 클라이언트 라이브러리를 설치합니다.\n"
      ]
    },
    {
      "cell_type": "markdown",
      "metadata": {
        "id": "fec46685"
      },
      "source": [
        "**Reasoning**:\n",
        "The subtask is to install the Google Cloud BigQuery client library. This can be done using pip in a Jupyter Notebook environment.\n",
        "\n"
      ]
    },
    {
      "cell_type": "code",
      "metadata": {
        "colab": {
          "base_uri": "https://localhost:8080/"
        },
        "id": "32d1f0c3",
        "outputId": "27e53dee-72cd-4df0-b8ff-60cc6f617735"
      },
      "source": [
        "%pip install google-cloud-bigquery"
      ],
      "execution_count": 2,
      "outputs": [
        {
          "output_type": "stream",
          "name": "stdout",
          "text": [
            "Requirement already satisfied: google-cloud-bigquery in /usr/local/lib/python3.11/dist-packages (3.35.1)\n",
            "Requirement already satisfied: google-api-core<3.0.0,>=2.11.1 in /usr/local/lib/python3.11/dist-packages (from google-api-core[grpc]<3.0.0,>=2.11.1->google-cloud-bigquery) (2.25.1)\n",
            "Requirement already satisfied: google-auth<3.0.0,>=2.14.1 in /usr/local/lib/python3.11/dist-packages (from google-cloud-bigquery) (2.38.0)\n",
            "Requirement already satisfied: google-cloud-core<3.0.0,>=2.4.1 in /usr/local/lib/python3.11/dist-packages (from google-cloud-bigquery) (2.4.3)\n",
            "Requirement already satisfied: google-resumable-media<3.0.0,>=2.0.0 in /usr/local/lib/python3.11/dist-packages (from google-cloud-bigquery) (2.7.2)\n",
            "Requirement already satisfied: packaging>=24.2.0 in /usr/local/lib/python3.11/dist-packages (from google-cloud-bigquery) (25.0)\n",
            "Requirement already satisfied: python-dateutil<3.0.0,>=2.8.2 in /usr/local/lib/python3.11/dist-packages (from google-cloud-bigquery) (2.9.0.post0)\n",
            "Requirement already satisfied: requests<3.0.0,>=2.21.0 in /usr/local/lib/python3.11/dist-packages (from google-cloud-bigquery) (2.32.3)\n",
            "Requirement already satisfied: googleapis-common-protos<2.0.0,>=1.56.2 in /usr/local/lib/python3.11/dist-packages (from google-api-core<3.0.0,>=2.11.1->google-api-core[grpc]<3.0.0,>=2.11.1->google-cloud-bigquery) (1.70.0)\n",
            "Requirement already satisfied: protobuf!=3.20.0,!=3.20.1,!=4.21.0,!=4.21.1,!=4.21.2,!=4.21.3,!=4.21.4,!=4.21.5,<7.0.0,>=3.19.5 in /usr/local/lib/python3.11/dist-packages (from google-api-core<3.0.0,>=2.11.1->google-api-core[grpc]<3.0.0,>=2.11.1->google-cloud-bigquery) (5.29.5)\n",
            "Requirement already satisfied: proto-plus<2.0.0,>=1.22.3 in /usr/local/lib/python3.11/dist-packages (from google-api-core<3.0.0,>=2.11.1->google-api-core[grpc]<3.0.0,>=2.11.1->google-cloud-bigquery) (1.26.1)\n",
            "Requirement already satisfied: grpcio<2.0.0,>=1.33.2 in /usr/local/lib/python3.11/dist-packages (from google-api-core[grpc]<3.0.0,>=2.11.1->google-cloud-bigquery) (1.74.0)\n",
            "Requirement already satisfied: grpcio-status<2.0.0,>=1.33.2 in /usr/local/lib/python3.11/dist-packages (from google-api-core[grpc]<3.0.0,>=2.11.1->google-cloud-bigquery) (1.71.2)\n",
            "Requirement already satisfied: cachetools<6.0,>=2.0.0 in /usr/local/lib/python3.11/dist-packages (from google-auth<3.0.0,>=2.14.1->google-cloud-bigquery) (5.5.2)\n",
            "Requirement already satisfied: pyasn1-modules>=0.2.1 in /usr/local/lib/python3.11/dist-packages (from google-auth<3.0.0,>=2.14.1->google-cloud-bigquery) (0.4.2)\n",
            "Requirement already satisfied: rsa<5,>=3.1.4 in /usr/local/lib/python3.11/dist-packages (from google-auth<3.0.0,>=2.14.1->google-cloud-bigquery) (4.9.1)\n",
            "Requirement already satisfied: google-crc32c<2.0dev,>=1.0 in /usr/local/lib/python3.11/dist-packages (from google-resumable-media<3.0.0,>=2.0.0->google-cloud-bigquery) (1.7.1)\n",
            "Requirement already satisfied: six>=1.5 in /usr/local/lib/python3.11/dist-packages (from python-dateutil<3.0.0,>=2.8.2->google-cloud-bigquery) (1.17.0)\n",
            "Requirement already satisfied: charset-normalizer<4,>=2 in /usr/local/lib/python3.11/dist-packages (from requests<3.0.0,>=2.21.0->google-cloud-bigquery) (3.4.2)\n",
            "Requirement already satisfied: idna<4,>=2.5 in /usr/local/lib/python3.11/dist-packages (from requests<3.0.0,>=2.21.0->google-cloud-bigquery) (3.10)\n",
            "Requirement already satisfied: urllib3<3,>=1.21.1 in /usr/local/lib/python3.11/dist-packages (from requests<3.0.0,>=2.21.0->google-cloud-bigquery) (2.5.0)\n",
            "Requirement already satisfied: certifi>=2017.4.17 in /usr/local/lib/python3.11/dist-packages (from requests<3.0.0,>=2.21.0->google-cloud-bigquery) (2025.8.3)\n",
            "Requirement already satisfied: pyasn1<0.7.0,>=0.6.1 in /usr/local/lib/python3.11/dist-packages (from pyasn1-modules>=0.2.1->google-auth<3.0.0,>=2.14.1->google-cloud-bigquery) (0.6.1)\n"
          ]
        }
      ]
    },
    {
      "cell_type": "markdown",
      "metadata": {
        "id": "130c3036"
      },
      "source": [
        "## 인증 설정\n",
        "\n",
        "### Subtask:\n",
        "Google Cloud 인증을 설정합니다.\n"
      ]
    },
    {
      "cell_type": "markdown",
      "metadata": {
        "id": "4bcc8d6c"
      },
      "source": [
        "**Reasoning**:\n",
        "Import the necessary module and authenticate the user for Google Cloud access.\n",
        "\n"
      ]
    },
    {
      "cell_type": "code",
      "metadata": {
        "id": "268d595e"
      },
      "source": [
        "from google.colab import auth\n",
        "auth.authenticate_user()"
      ],
      "execution_count": 3,
      "outputs": []
    },
    {
      "cell_type": "markdown",
      "metadata": {
        "id": "f327c26a"
      },
      "source": [
        "## 테이블 로딩\n",
        "\n",
        "### Subtask:\n",
        "BigQuery에서 테이블을 로딩하는 코드를 작성합니다.\n"
      ]
    },
    {
      "cell_type": "markdown",
      "metadata": {
        "id": "c00f7880"
      },
      "source": [
        "**Reasoning**:\n",
        "Import the necessary Client class from google.cloud.bigquery, create a client object, and then retrieve the specified BigQuery table.\n",
        "\n"
      ]
    },
    {
      "cell_type": "code",
      "metadata": {
        "colab": {
          "base_uri": "https://localhost:8080/"
        },
        "id": "5a7a2ac3",
        "outputId": "4d4ba677-0c15-4358-e68d-4b38573d69b5"
      },
      "source": [
        "from google.cloud.bigquery import Client\n",
        "\n",
        "client = bigquery.Client(project=\"bigquery-mockup-test\")\n",
        "\n",
        "project_id = 'bigquery-mockup-test'  # Replace with your GCP project ID\n",
        "dataset_id = 'mockup'      # Replace with your BigQuery dataset ID\n",
        "table_id = 'tb_a'          # Replace with your BigQuery table ID\n",
        "\n",
        "table_ref = client.dataset(dataset_id, project=project_id).table(table_id)\n",
        "table = client.get_table(table_ref)\n",
        "\n",
        "print(f\"Loaded table: {table.project}.{table.dataset_id}.{table.table_id}\")\n",
        "print(f\"Table schema: {table.schema}\")"
      ],
      "execution_count": 8,
      "outputs": [
        {
          "output_type": "stream",
          "name": "stdout",
          "text": [
            "Loaded table: bigquery-mockup-test.mockup.tb_a\n",
            "Table schema: [SchemaField('loan_req_id', 'STRING', 'NULLABLE', None, '대출 신청 고유 번호', (), None), SchemaField('inquiry_id', 'STRING', 'NULLABLE', None, '한도조회 고유 번호', (), None), SchemaField('customer_id', 'STRING', 'NULLABLE', None, '고객 고유 번호', (), None), SchemaField('gender', 'STRING', 'NULLABLE', None, '성별', (), None), SchemaField('age', 'INTEGER', 'NULLABLE', None, '연령', (), None), SchemaField('occupation_cd', 'STRING', 'NULLABLE', None, '직업 구분 코드(자영업자, 급여소득자, 주부)', (), None), SchemaField('final_loan_amount', 'FLOAT', 'NULLABLE', None, '최종 실행 대출 금액', (), None), SchemaField('application_date', 'DATE', 'NULLABLE', None, '신청일', (), None), SchemaField('process_date', 'DATE', 'NULLABLE', None, '처리일(신청 이후 접수나 추가 한도조회가 별도로 이뤄진 경우나 결국 대출이 기각된 경우 여기에 날짜가 기입됨. 즉 해당 신청건에 대한 가장 최종 처리일을 뜻함)', (), None), SchemaField('execution_date', 'DATE', 'NULLABLE', None, '대출 실행일', (), None), SchemaField('status', 'STRING', 'NULLABLE', None, '신청 상태', (), None)]\n"
          ]
        }
      ]
    },
    {
      "cell_type": "markdown",
      "metadata": {
        "id": "7e574cdd"
      },
      "source": [
        "## Summary:\n",
        "\n",
        "### Data Analysis Key Findings\n",
        "\n",
        "*   The `google-cloud-bigquery` library was already installed in the environment.\n",
        "*   Google Cloud authentication was successfully configured using `google.colab.auth.authenticate_user()`.\n",
        "*   A BigQuery table was successfully loaded using the `google.cloud.bigquery.Client` library, and its schema was retrieved and displayed.\n",
        "\n",
        "### Insights or Next Steps\n",
        "\n",
        "*   The initial setup for interacting with BigQuery from a Colab environment is complete.\n",
        "*   The next steps would involve querying the loaded BigQuery table to perform data analysis.\n"
      ]
    },
    {
      "cell_type": "code",
      "metadata": {
        "colab": {
          "base_uri": "https://localhost:8080/"
        },
        "id": "a6937c70",
        "outputId": "07d868fa-c7fe-46d9-cc38-9acc207b8a2f"
      },
      "source": [
        "from google.cloud.bigquery import Client\n",
        "\n",
        "# Assuming the 'client' object is already initialized from previous steps\n",
        "# client = Client()\n",
        "\n",
        "project_id = 'bigquery-mockup-test'  # Replace with your GCP project ID\n",
        "dataset_id = 'mockup'      # Replace with your BigQuery dataset ID\n",
        "table_id = 'tb_a'          # Replace with your BigQuery table ID\n",
        "\n",
        "query = f\"\"\"\n",
        "SELECT\n",
        "    SUM(final_loan_amount) AS total_loan_amount\n",
        "FROM\n",
        "    `{project_id}.{dataset_id}.{table_id}`\n",
        "WHERE\n",
        "    execution_date BETWEEN '2025-07-01' AND '2025-07-31'  # Assuming the year is 2025, adjust if needed\n",
        "\"\"\"\n",
        "\n",
        "query_job = client.query(query)\n",
        "results = query_job.result()\n",
        "\n",
        "for row in results:\n",
        "    total_loan_amount = row.total_loan_amount\n",
        "\n",
        "print(f\"The total loan amount for July in 2025 was: {total_loan_amount}\")"
      ],
      "execution_count": 11,
      "outputs": [
        {
          "output_type": "stream",
          "name": "stdout",
          "text": [
            "The total loan amount for July in 2025 was: 830522000.0\n"
          ]
        }
      ]
    },
    {
      "cell_type": "code",
      "metadata": {
        "colab": {
          "base_uri": "https://localhost:8080/"
        },
        "id": "17e30ae0",
        "outputId": "f23171ce-646b-4215-c0ac-85195d4bbfcc"
      },
      "source": [
        "from google.cloud.bigquery import Client\n",
        "\n",
        "# Assuming the 'client' object is already initialized from previous steps\n",
        "# client = Client()\n",
        "\n",
        "project_id = 'bigquery-mockup-test'  # Replace with your GCP project ID\n",
        "dataset_id = 'mockup'      # Replace with your BigQuery dataset ID\n",
        "table_id = 'tb_b'          # Replace with your BigQuery table ID\n",
        "\n",
        "query = f\"\"\"\n",
        "SELECT\n",
        "    *\n",
        "FROM\n",
        "    `{project_id}.{dataset_id}.{table_id}`\n",
        "LIMIT 100\n",
        "\"\"\"\n",
        "\n",
        "query_job = client.query(query)\n",
        "results = query_job.result()\n",
        "\n",
        "# Display the results (first 100 rows)\n",
        "for i, row in enumerate(results):\n",
        "    if i == 0:\n",
        "        print(row.keys()) # Print column names\n",
        "    print(row)"
      ],
      "execution_count": 12,
      "outputs": [
        {
          "output_type": "stream",
          "name": "stdout",
          "text": [
            "dict_keys(['loan_req_id', 'inquiry_id', 'table_reg_no', 'product_id', 'inquiry_date', 'offer_limit', 'offer_rate', 'channel', 'is_accepted'])\n",
            "Row(('REQ000349', 'INQ000349', 1, '론A', datetime.date(2025, 7, 1), 8930000.0, 19.092683802299995, 'Direct', False), {'loan_req_id': 0, 'inquiry_id': 1, 'table_reg_no': 2, 'product_id': 3, 'inquiry_date': 4, 'offer_limit': 5, 'offer_rate': 6, 'channel': 7, 'is_accepted': 8})\n",
            "Row(('REQ000349', 'INQ000349', 2, '론B', datetime.date(2025, 7, 1), 5635000.0, 12.337965671908423, 'Direct', False), {'loan_req_id': 0, 'inquiry_id': 1, 'table_reg_no': 2, 'product_id': 3, 'inquiry_date': 4, 'offer_limit': 5, 'offer_rate': 6, 'channel': 7, 'is_accepted': 8})\n",
            "Row(('REQ000349', 'INQ000349', 3, '론C', datetime.date(2025, 7, 1), 3144000.0, 13.96071547671699, 'Direct', False), {'loan_req_id': 0, 'inquiry_id': 1, 'table_reg_no': 2, 'product_id': 3, 'inquiry_date': 4, 'offer_limit': 5, 'offer_rate': 6, 'channel': 7, 'is_accepted': 8})\n",
            "Row(('REQ000561', 'INQ000561', 1, '론A', datetime.date(2025, 7, 1), 11044000.0, 14.597090654883033, 'Direct', True), {'loan_req_id': 0, 'inquiry_id': 1, 'table_reg_no': 2, 'product_id': 3, 'inquiry_date': 4, 'offer_limit': 5, 'offer_rate': 6, 'channel': 7, 'is_accepted': 8})\n",
            "Row(('REQ000561', 'INQ000561', 2, '론C', datetime.date(2025, 7, 1), 9268000.0, 13.721736993371191, 'Direct', False), {'loan_req_id': 0, 'inquiry_id': 1, 'table_reg_no': 2, 'product_id': 3, 'inquiry_date': 4, 'offer_limit': 5, 'offer_rate': 6, 'channel': 7, 'is_accepted': 8})\n",
            "Row(('REQ000561', 'INQ000561', 3, '론B', datetime.date(2025, 7, 1), 5263000.0, 12.949548599055186, 'Direct', False), {'loan_req_id': 0, 'inquiry_id': 1, 'table_reg_no': 2, 'product_id': 3, 'inquiry_date': 4, 'offer_limit': 5, 'offer_rate': 6, 'channel': 7, 'is_accepted': 8})\n",
            "Row(('REQ001008', 'INQ001008', 1, '론C', datetime.date(2025, 7, 1), 3897000.0, 13.898964595281893, 'Direct', False), {'loan_req_id': 0, 'inquiry_id': 1, 'table_reg_no': 2, 'product_id': 3, 'inquiry_date': 4, 'offer_limit': 5, 'offer_rate': 6, 'channel': 7, 'is_accepted': 8})\n",
            "Row(('REQ001008', 'INQ001008', 2, '론B', datetime.date(2025, 7, 1), 2095000.0, 13.962679178366328, 'Direct', False), {'loan_req_id': 0, 'inquiry_id': 1, 'table_reg_no': 2, 'product_id': 3, 'inquiry_date': 4, 'offer_limit': 5, 'offer_rate': 6, 'channel': 7, 'is_accepted': 8})\n",
            "Row(('REQ001008', 'INQ001008', 3, '론A', datetime.date(2025, 7, 1), 2259000.0, 15.070901802110477, 'Direct', False), {'loan_req_id': 0, 'inquiry_id': 1, 'table_reg_no': 2, 'product_id': 3, 'inquiry_date': 4, 'offer_limit': 5, 'offer_rate': 6, 'channel': 7, 'is_accepted': 8})\n",
            "Row(('REQ001482', 'INQ001482', 1, '론C', datetime.date(2025, 7, 1), 10725000.0, 14.318161573514935, 'Direct', False), {'loan_req_id': 0, 'inquiry_id': 1, 'table_reg_no': 2, 'product_id': 3, 'inquiry_date': 4, 'offer_limit': 5, 'offer_rate': 6, 'channel': 7, 'is_accepted': 8})\n",
            "Row(('REQ001482', 'INQ001482', 2, '론A', datetime.date(2025, 7, 1), 6925000.0, 8.938181486309741, 'Direct', False), {'loan_req_id': 0, 'inquiry_id': 1, 'table_reg_no': 2, 'product_id': 3, 'inquiry_date': 4, 'offer_limit': 5, 'offer_rate': 6, 'channel': 7, 'is_accepted': 8})\n",
            "Row(('REQ001482', 'INQ001482', 3, '론B', datetime.date(2025, 7, 1), 9358000.0, 14.79528750962171, 'Direct', True), {'loan_req_id': 0, 'inquiry_id': 1, 'table_reg_no': 2, 'product_id': 3, 'inquiry_date': 4, 'offer_limit': 5, 'offer_rate': 6, 'channel': 7, 'is_accepted': 8})\n",
            "Row(('REQ001495', 'INQ001495', 1, '론A', datetime.date(2025, 7, 1), 5409000.0, 10.405133842534992, 'Direct', False), {'loan_req_id': 0, 'inquiry_id': 1, 'table_reg_no': 2, 'product_id': 3, 'inquiry_date': 4, 'offer_limit': 5, 'offer_rate': 6, 'channel': 7, 'is_accepted': 8})\n",
            "Row(('REQ001495', 'INQ001495', 2, '론C', datetime.date(2025, 7, 1), 7306000.0, 14.254686277236631, 'Direct', True), {'loan_req_id': 0, 'inquiry_id': 1, 'table_reg_no': 2, 'product_id': 3, 'inquiry_date': 4, 'offer_limit': 5, 'offer_rate': 6, 'channel': 7, 'is_accepted': 8})\n",
            "Row(('REQ001495', 'INQ001495', 3, '론B', datetime.date(2025, 7, 1), 3377000.0, 13.206185545531437, 'Direct', False), {'loan_req_id': 0, 'inquiry_id': 1, 'table_reg_no': 2, 'product_id': 3, 'inquiry_date': 4, 'offer_limit': 5, 'offer_rate': 6, 'channel': 7, 'is_accepted': 8})\n",
            "Row(('REQ001542', 'INQ001542', 1, '론C', datetime.date(2025, 7, 1), 3430000.0, 15.529667054554809, 'Direct', False), {'loan_req_id': 0, 'inquiry_id': 1, 'table_reg_no': 2, 'product_id': 3, 'inquiry_date': 4, 'offer_limit': 5, 'offer_rate': 6, 'channel': 7, 'is_accepted': 8})\n",
            "Row(('REQ001542', 'INQ001542', 2, '론A', datetime.date(2025, 7, 1), 8079000.0, 15.238534857507235, 'Direct', False), {'loan_req_id': 0, 'inquiry_id': 1, 'table_reg_no': 2, 'product_id': 3, 'inquiry_date': 4, 'offer_limit': 5, 'offer_rate': 6, 'channel': 7, 'is_accepted': 8})\n",
            "Row(('REQ001542', 'INQ001542', 3, '론B', datetime.date(2025, 7, 1), 19760000.0, 11.455127195489753, 'Direct', False), {'loan_req_id': 0, 'inquiry_id': 1, 'table_reg_no': 2, 'product_id': 3, 'inquiry_date': 4, 'offer_limit': 5, 'offer_rate': 6, 'channel': 7, 'is_accepted': 8})\n",
            "Row(('REQ001781', 'INQ001781', 1, '론B', datetime.date(2025, 7, 1), 4438000.0, 12.760176061523282, 'Direct', False), {'loan_req_id': 0, 'inquiry_id': 1, 'table_reg_no': 2, 'product_id': 3, 'inquiry_date': 4, 'offer_limit': 5, 'offer_rate': 6, 'channel': 7, 'is_accepted': 8})\n",
            "Row(('REQ001781', 'INQ001781', 2, '론A', datetime.date(2025, 7, 1), 4276000.0, 7.500369084886702, 'Direct', True), {'loan_req_id': 0, 'inquiry_id': 1, 'table_reg_no': 2, 'product_id': 3, 'inquiry_date': 4, 'offer_limit': 5, 'offer_rate': 6, 'channel': 7, 'is_accepted': 8})\n",
            "Row(('REQ001781', 'INQ001781', 3, '론C', datetime.date(2025, 7, 1), 7276000.0, 15.23056803047977, 'Direct', False), {'loan_req_id': 0, 'inquiry_id': 1, 'table_reg_no': 2, 'product_id': 3, 'inquiry_date': 4, 'offer_limit': 5, 'offer_rate': 6, 'channel': 7, 'is_accepted': 8})\n",
            "Row(('REQ003529', 'INQ003529', 1, '론B', datetime.date(2025, 7, 1), 2819000.0, 10.42911292967558, 'Direct', True), {'loan_req_id': 0, 'inquiry_id': 1, 'table_reg_no': 2, 'product_id': 3, 'inquiry_date': 4, 'offer_limit': 5, 'offer_rate': 6, 'channel': 7, 'is_accepted': 8})\n",
            "Row(('REQ003529', 'INQ003529', 2, '론A', datetime.date(2025, 7, 1), 11213000.0, 14.852173448787495, 'Direct', False), {'loan_req_id': 0, 'inquiry_id': 1, 'table_reg_no': 2, 'product_id': 3, 'inquiry_date': 4, 'offer_limit': 5, 'offer_rate': 6, 'channel': 7, 'is_accepted': 8})\n",
            "Row(('REQ003529', 'INQ003529', 3, '론C', datetime.date(2025, 7, 1), 6147000.0, 12.798166182885891, 'Direct', False), {'loan_req_id': 0, 'inquiry_id': 1, 'table_reg_no': 2, 'product_id': 3, 'inquiry_date': 4, 'offer_limit': 5, 'offer_rate': 6, 'channel': 7, 'is_accepted': 8})\n",
            "Row(('REQ003529', 'INQ003529', 4, '론B', datetime.date(2025, 7, 1), 9248000.0, 11.215685957548244, 'Direct', True), {'loan_req_id': 0, 'inquiry_id': 1, 'table_reg_no': 2, 'product_id': 3, 'inquiry_date': 4, 'offer_limit': 5, 'offer_rate': 6, 'channel': 7, 'is_accepted': 8})\n",
            "Row(('REQ003595', 'INQ003595', 1, '론A', datetime.date(2025, 7, 1), 2352000.0, 13.921179909848412, 'Direct', False), {'loan_req_id': 0, 'inquiry_id': 1, 'table_reg_no': 2, 'product_id': 3, 'inquiry_date': 4, 'offer_limit': 5, 'offer_rate': 6, 'channel': 7, 'is_accepted': 8})\n",
            "Row(('REQ003595', 'INQ003595', 2, '론C', datetime.date(2025, 7, 1), 2636000.0, 14.634119621933348, 'Direct', False), {'loan_req_id': 0, 'inquiry_id': 1, 'table_reg_no': 2, 'product_id': 3, 'inquiry_date': 4, 'offer_limit': 5, 'offer_rate': 6, 'channel': 7, 'is_accepted': 8})\n",
            "Row(('REQ003595', 'INQ003595', 3, '론B', datetime.date(2025, 7, 1), 4598000.0, 12.860437138895657, 'Direct', False), {'loan_req_id': 0, 'inquiry_id': 1, 'table_reg_no': 2, 'product_id': 3, 'inquiry_date': 4, 'offer_limit': 5, 'offer_rate': 6, 'channel': 7, 'is_accepted': 8})\n",
            "Row(('REQ003873', 'INQ003873', 1, '론C', datetime.date(2025, 7, 1), 9493000.0, 11.576408087663495, 'Direct', False), {'loan_req_id': 0, 'inquiry_id': 1, 'table_reg_no': 2, 'product_id': 3, 'inquiry_date': 4, 'offer_limit': 5, 'offer_rate': 6, 'channel': 7, 'is_accepted': 8})\n",
            "Row(('REQ003873', 'INQ003873', 2, '론A', datetime.date(2025, 7, 1), 12655000.0, 8.689664514301883, 'Direct', False), {'loan_req_id': 0, 'inquiry_id': 1, 'table_reg_no': 2, 'product_id': 3, 'inquiry_date': 4, 'offer_limit': 5, 'offer_rate': 6, 'channel': 7, 'is_accepted': 8})\n",
            "Row(('REQ003873', 'INQ003873', 3, '론B', datetime.date(2025, 7, 1), 39192000.0, 13.578144155403537, 'Direct', True), {'loan_req_id': 0, 'inquiry_id': 1, 'table_reg_no': 2, 'product_id': 3, 'inquiry_date': 4, 'offer_limit': 5, 'offer_rate': 6, 'channel': 7, 'is_accepted': 8})\n",
            "Row(('REQ003945', 'INQ003945', 1, '론A', datetime.date(2025, 7, 1), 8701000.0, 14.270501839341128, 'Direct', False), {'loan_req_id': 0, 'inquiry_id': 1, 'table_reg_no': 2, 'product_id': 3, 'inquiry_date': 4, 'offer_limit': 5, 'offer_rate': 6, 'channel': 7, 'is_accepted': 8})\n",
            "Row(('REQ003945', 'INQ003945', 2, '론B', datetime.date(2025, 7, 1), 2439000.0, 20.0, 'Direct', True), {'loan_req_id': 0, 'inquiry_id': 1, 'table_reg_no': 2, 'product_id': 3, 'inquiry_date': 4, 'offer_limit': 5, 'offer_rate': 6, 'channel': 7, 'is_accepted': 8})\n",
            "Row(('REQ003945', 'INQ003945', 3, '론C', datetime.date(2025, 7, 1), 8537000.0, 16.094251913639972, 'Direct', False), {'loan_req_id': 0, 'inquiry_id': 1, 'table_reg_no': 2, 'product_id': 3, 'inquiry_date': 4, 'offer_limit': 5, 'offer_rate': 6, 'channel': 7, 'is_accepted': 8})\n",
            "Row(('REQ003945', 'INQ003945', 4, '론B', datetime.date(2025, 7, 1), 2773000.0, 12.992889546194183, 'Direct', True), {'loan_req_id': 0, 'inquiry_id': 1, 'table_reg_no': 2, 'product_id': 3, 'inquiry_date': 4, 'offer_limit': 5, 'offer_rate': 6, 'channel': 7, 'is_accepted': 8})\n",
            "Row(('REQ005065', 'INQ005065', 1, '론C', datetime.date(2025, 7, 1), 3110000.0, 20.0, 'Direct', False), {'loan_req_id': 0, 'inquiry_id': 1, 'table_reg_no': 2, 'product_id': 3, 'inquiry_date': 4, 'offer_limit': 5, 'offer_rate': 6, 'channel': 7, 'is_accepted': 8})\n",
            "Row(('REQ005065', 'INQ005065', 2, '론B', datetime.date(2025, 7, 1), 18893000.0, 13.05728112602126, 'Direct', True), {'loan_req_id': 0, 'inquiry_id': 1, 'table_reg_no': 2, 'product_id': 3, 'inquiry_date': 4, 'offer_limit': 5, 'offer_rate': 6, 'channel': 7, 'is_accepted': 8})\n",
            "Row(('REQ005065', 'INQ005065', 3, '론A', datetime.date(2025, 7, 1), 1463000.0, 10.571608993857794, 'Direct', False), {'loan_req_id': 0, 'inquiry_id': 1, 'table_reg_no': 2, 'product_id': 3, 'inquiry_date': 4, 'offer_limit': 5, 'offer_rate': 6, 'channel': 7, 'is_accepted': 8})\n",
            "Row(('REQ005260', 'INQ005260', 1, '론C', datetime.date(2025, 7, 1), 7548000.0, 14.947520142861542, 'Direct', False), {'loan_req_id': 0, 'inquiry_id': 1, 'table_reg_no': 2, 'product_id': 3, 'inquiry_date': 4, 'offer_limit': 5, 'offer_rate': 6, 'channel': 7, 'is_accepted': 8})\n",
            "Row(('REQ005260', 'INQ005260', 2, '론B', datetime.date(2025, 7, 1), 1131000.0, 12.527740916475425, 'Direct', False), {'loan_req_id': 0, 'inquiry_id': 1, 'table_reg_no': 2, 'product_id': 3, 'inquiry_date': 4, 'offer_limit': 5, 'offer_rate': 6, 'channel': 7, 'is_accepted': 8})\n",
            "Row(('REQ005260', 'INQ005260', 3, '론A', datetime.date(2025, 7, 1), 3106000.0, 15.200378336994723, 'Direct', True), {'loan_req_id': 0, 'inquiry_id': 1, 'table_reg_no': 2, 'product_id': 3, 'inquiry_date': 4, 'offer_limit': 5, 'offer_rate': 6, 'channel': 7, 'is_accepted': 8})\n",
            "Row(('REQ007428', 'INQ007428', 1, '론A', datetime.date(2025, 7, 1), 13034000.0, 10.910048694177565, 'Direct', False), {'loan_req_id': 0, 'inquiry_id': 1, 'table_reg_no': 2, 'product_id': 3, 'inquiry_date': 4, 'offer_limit': 5, 'offer_rate': 6, 'channel': 7, 'is_accepted': 8})\n",
            "Row(('REQ007428', 'INQ007428', 2, '론C', datetime.date(2025, 7, 1), 4931000.0, 16.580947853349432, 'Direct', False), {'loan_req_id': 0, 'inquiry_id': 1, 'table_reg_no': 2, 'product_id': 3, 'inquiry_date': 4, 'offer_limit': 5, 'offer_rate': 6, 'channel': 7, 'is_accepted': 8})\n",
            "Row(('REQ007428', 'INQ007428', 3, '론B', datetime.date(2025, 7, 1), 1858000.0, 13.73374553526987, 'Direct', False), {'loan_req_id': 0, 'inquiry_id': 1, 'table_reg_no': 2, 'product_id': 3, 'inquiry_date': 4, 'offer_limit': 5, 'offer_rate': 6, 'channel': 7, 'is_accepted': 8})\n",
            "Row(('REQ007768', 'INQ007768', 1, '론B', datetime.date(2025, 7, 1), 5113000.0, 13.04256390849823, 'Direct', False), {'loan_req_id': 0, 'inquiry_id': 1, 'table_reg_no': 2, 'product_id': 3, 'inquiry_date': 4, 'offer_limit': 5, 'offer_rate': 6, 'channel': 7, 'is_accepted': 8})\n",
            "Row(('REQ007768', 'INQ007768', 2, '론A', datetime.date(2025, 7, 1), 3243000.0, 13.796638557354926, 'Direct', True), {'loan_req_id': 0, 'inquiry_id': 1, 'table_reg_no': 2, 'product_id': 3, 'inquiry_date': 4, 'offer_limit': 5, 'offer_rate': 6, 'channel': 7, 'is_accepted': 8})\n",
            "Row(('REQ007768', 'INQ007768', 3, '론C', datetime.date(2025, 7, 1), 3621000.0, 14.638628544179168, 'Direct', False), {'loan_req_id': 0, 'inquiry_id': 1, 'table_reg_no': 2, 'product_id': 3, 'inquiry_date': 4, 'offer_limit': 5, 'offer_rate': 6, 'channel': 7, 'is_accepted': 8})\n",
            "Row(('REQ007981', 'INQ007981', 1, '론B', datetime.date(2025, 7, 1), 5700000.0, 10.816907325063035, 'Direct', True), {'loan_req_id': 0, 'inquiry_id': 1, 'table_reg_no': 2, 'product_id': 3, 'inquiry_date': 4, 'offer_limit': 5, 'offer_rate': 6, 'channel': 7, 'is_accepted': 8})\n",
            "Row(('REQ007981', 'INQ007981', 2, '론A', datetime.date(2025, 7, 1), 2689000.0, 13.908973801374572, 'Direct', False), {'loan_req_id': 0, 'inquiry_id': 1, 'table_reg_no': 2, 'product_id': 3, 'inquiry_date': 4, 'offer_limit': 5, 'offer_rate': 6, 'channel': 7, 'is_accepted': 8})\n",
            "Row(('REQ007981', 'INQ007981', 3, '론C', datetime.date(2025, 7, 1), 4989000.0, 17.864552104917873, 'Direct', False), {'loan_req_id': 0, 'inquiry_id': 1, 'table_reg_no': 2, 'product_id': 3, 'inquiry_date': 4, 'offer_limit': 5, 'offer_rate': 6, 'channel': 7, 'is_accepted': 8})\n",
            "Row(('REQ007981', 'INQ007981', 4, '론B', datetime.date(2025, 7, 1), 4331000.0, 16.594480295130815, 'Direct', True), {'loan_req_id': 0, 'inquiry_id': 1, 'table_reg_no': 2, 'product_id': 3, 'inquiry_date': 4, 'offer_limit': 5, 'offer_rate': 6, 'channel': 7, 'is_accepted': 8})\n",
            "Row(('REQ008341', 'INQ008341', 1, '론A', datetime.date(2025, 7, 1), 5504000.0, 17.44391259746802, 'Direct', False), {'loan_req_id': 0, 'inquiry_id': 1, 'table_reg_no': 2, 'product_id': 3, 'inquiry_date': 4, 'offer_limit': 5, 'offer_rate': 6, 'channel': 7, 'is_accepted': 8})\n",
            "Row(('REQ008341', 'INQ008341', 2, '론C', datetime.date(2025, 7, 1), 7349000.0, 12.329727315290041, 'Direct', True), {'loan_req_id': 0, 'inquiry_id': 1, 'table_reg_no': 2, 'product_id': 3, 'inquiry_date': 4, 'offer_limit': 5, 'offer_rate': 6, 'channel': 7, 'is_accepted': 8})\n",
            "Row(('REQ008341', 'INQ008341', 3, '론B', datetime.date(2025, 7, 1), 4714000.0, 11.732671413215268, 'Direct', False), {'loan_req_id': 0, 'inquiry_id': 1, 'table_reg_no': 2, 'product_id': 3, 'inquiry_date': 4, 'offer_limit': 5, 'offer_rate': 6, 'channel': 7, 'is_accepted': 8})\n",
            "Row(('REQ010517', 'INQ010517', 1, '론C', datetime.date(2025, 7, 1), 5927000.0, 15.881185317718447, 'Direct', False), {'loan_req_id': 0, 'inquiry_id': 1, 'table_reg_no': 2, 'product_id': 3, 'inquiry_date': 4, 'offer_limit': 5, 'offer_rate': 6, 'channel': 7, 'is_accepted': 8})\n",
            "Row(('REQ010517', 'INQ010517', 2, '론A', datetime.date(2025, 7, 1), 16058000.0, 14.12949906153825, 'Direct', False), {'loan_req_id': 0, 'inquiry_id': 1, 'table_reg_no': 2, 'product_id': 3, 'inquiry_date': 4, 'offer_limit': 5, 'offer_rate': 6, 'channel': 7, 'is_accepted': 8})\n",
            "Row(('REQ010517', 'INQ010517', 3, '론B', datetime.date(2025, 7, 1), 9299000.0, 16.148756987627117, 'Direct', False), {'loan_req_id': 0, 'inquiry_id': 1, 'table_reg_no': 2, 'product_id': 3, 'inquiry_date': 4, 'offer_limit': 5, 'offer_rate': 6, 'channel': 7, 'is_accepted': 8})\n",
            "Row(('REQ010693', 'INQ010693', 1, '론A', datetime.date(2025, 7, 1), 12046000.0, 15.46062937591924, 'Direct', True), {'loan_req_id': 0, 'inquiry_id': 1, 'table_reg_no': 2, 'product_id': 3, 'inquiry_date': 4, 'offer_limit': 5, 'offer_rate': 6, 'channel': 7, 'is_accepted': 8})\n",
            "Row(('REQ010693', 'INQ010693', 2, '론C', datetime.date(2025, 7, 1), 5583000.0, 8.853074376335975, 'Direct', False), {'loan_req_id': 0, 'inquiry_id': 1, 'table_reg_no': 2, 'product_id': 3, 'inquiry_date': 4, 'offer_limit': 5, 'offer_rate': 6, 'channel': 7, 'is_accepted': 8})\n",
            "Row(('REQ010693', 'INQ010693', 3, '론B', datetime.date(2025, 7, 1), 3252000.0, 11.131663089068809, 'Direct', False), {'loan_req_id': 0, 'inquiry_id': 1, 'table_reg_no': 2, 'product_id': 3, 'inquiry_date': 4, 'offer_limit': 5, 'offer_rate': 6, 'channel': 7, 'is_accepted': 8})\n",
            "Row(('REQ011695', 'INQ011695', 1, '론C', datetime.date(2025, 7, 1), 7469000.0, 11.17396574213637, 'Direct', False), {'loan_req_id': 0, 'inquiry_id': 1, 'table_reg_no': 2, 'product_id': 3, 'inquiry_date': 4, 'offer_limit': 5, 'offer_rate': 6, 'channel': 7, 'is_accepted': 8})\n",
            "Row(('REQ011695', 'INQ011695', 2, '론A', datetime.date(2025, 7, 1), 10808000.0, 10.816870437239752, 'Direct', False), {'loan_req_id': 0, 'inquiry_id': 1, 'table_reg_no': 2, 'product_id': 3, 'inquiry_date': 4, 'offer_limit': 5, 'offer_rate': 6, 'channel': 7, 'is_accepted': 8})\n",
            "Row(('REQ011695', 'INQ011695', 3, '론B', datetime.date(2025, 7, 1), 3770000.0, 14.117423296171202, 'Direct', False), {'loan_req_id': 0, 'inquiry_id': 1, 'table_reg_no': 2, 'product_id': 3, 'inquiry_date': 4, 'offer_limit': 5, 'offer_rate': 6, 'channel': 7, 'is_accepted': 8})\n",
            "Row(('REQ011743', 'INQ011743', 1, '론C', datetime.date(2025, 7, 1), 2035000.0, 14.177353976700635, 'Direct', True), {'loan_req_id': 0, 'inquiry_id': 1, 'table_reg_no': 2, 'product_id': 3, 'inquiry_date': 4, 'offer_limit': 5, 'offer_rate': 6, 'channel': 7, 'is_accepted': 8})\n",
            "Row(('REQ011743', 'INQ011743', 2, '론B', datetime.date(2025, 7, 1), 8234000.0, 12.472881391147457, 'Direct', False), {'loan_req_id': 0, 'inquiry_id': 1, 'table_reg_no': 2, 'product_id': 3, 'inquiry_date': 4, 'offer_limit': 5, 'offer_rate': 6, 'channel': 7, 'is_accepted': 8})\n",
            "Row(('REQ011743', 'INQ011743', 3, '론A', datetime.date(2025, 7, 1), 2578000.0, 11.642248841516112, 'Direct', False), {'loan_req_id': 0, 'inquiry_id': 1, 'table_reg_no': 2, 'product_id': 3, 'inquiry_date': 4, 'offer_limit': 5, 'offer_rate': 6, 'channel': 7, 'is_accepted': 8})\n",
            "Row(('REQ011879', 'INQ011879', 1, '론B', datetime.date(2025, 7, 1), 2901000.0, 11.11521309684914, 'Direct', True), {'loan_req_id': 0, 'inquiry_id': 1, 'table_reg_no': 2, 'product_id': 3, 'inquiry_date': 4, 'offer_limit': 5, 'offer_rate': 6, 'channel': 7, 'is_accepted': 8})\n",
            "Row(('REQ011879', 'INQ011879', 2, '론A', datetime.date(2025, 7, 1), 21761000.0, 11.020049251854871, 'Direct', False), {'loan_req_id': 0, 'inquiry_id': 1, 'table_reg_no': 2, 'product_id': 3, 'inquiry_date': 4, 'offer_limit': 5, 'offer_rate': 6, 'channel': 7, 'is_accepted': 8})\n",
            "Row(('REQ011879', 'INQ011879', 3, '론C', datetime.date(2025, 7, 1), 9802000.0, 11.693701766234424, 'Direct', False), {'loan_req_id': 0, 'inquiry_id': 1, 'table_reg_no': 2, 'product_id': 3, 'inquiry_date': 4, 'offer_limit': 5, 'offer_rate': 6, 'channel': 7, 'is_accepted': 8})\n",
            "Row(('REQ012313', 'INQ012313', 1, '론A', datetime.date(2025, 7, 1), 2685000.0, 13.301302822623175, 'Direct', True), {'loan_req_id': 0, 'inquiry_id': 1, 'table_reg_no': 2, 'product_id': 3, 'inquiry_date': 4, 'offer_limit': 5, 'offer_rate': 6, 'channel': 7, 'is_accepted': 8})\n",
            "Row(('REQ012313', 'INQ012313', 2, '론C', datetime.date(2025, 7, 1), 7217000.0, 14.847717396128544, 'Direct', False), {'loan_req_id': 0, 'inquiry_id': 1, 'table_reg_no': 2, 'product_id': 3, 'inquiry_date': 4, 'offer_limit': 5, 'offer_rate': 6, 'channel': 7, 'is_accepted': 8})\n",
            "Row(('REQ012313', 'INQ012313', 3, '론B', datetime.date(2025, 7, 1), 7483000.0, 17.356534486182277, 'Direct', False), {'loan_req_id': 0, 'inquiry_id': 1, 'table_reg_no': 2, 'product_id': 3, 'inquiry_date': 4, 'offer_limit': 5, 'offer_rate': 6, 'channel': 7, 'is_accepted': 8})\n",
            "Row(('REQ012367', 'INQ012367', 1, '론C', datetime.date(2025, 7, 1), 4208000.0, 11.879387873499049, 'Direct', True), {'loan_req_id': 0, 'inquiry_id': 1, 'table_reg_no': 2, 'product_id': 3, 'inquiry_date': 4, 'offer_limit': 5, 'offer_rate': 6, 'channel': 7, 'is_accepted': 8})\n",
            "Row(('REQ012367', 'INQ012367', 2, '론B', datetime.date(2025, 7, 1), 3131000.0, 13.796902743415158, 'Direct', False), {'loan_req_id': 0, 'inquiry_id': 1, 'table_reg_no': 2, 'product_id': 3, 'inquiry_date': 4, 'offer_limit': 5, 'offer_rate': 6, 'channel': 7, 'is_accepted': 8})\n",
            "Row(('REQ012367', 'INQ012367', 3, '론A', datetime.date(2025, 7, 1), 8923000.0, 14.763197614949194, 'Direct', False), {'loan_req_id': 0, 'inquiry_id': 1, 'table_reg_no': 2, 'product_id': 3, 'inquiry_date': 4, 'offer_limit': 5, 'offer_rate': 6, 'channel': 7, 'is_accepted': 8})\n",
            "Row(('REQ012385', 'INQ012385', 1, '론C', datetime.date(2025, 7, 1), 6286000.0, 14.657772807416668, 'Direct', False), {'loan_req_id': 0, 'inquiry_id': 1, 'table_reg_no': 2, 'product_id': 3, 'inquiry_date': 4, 'offer_limit': 5, 'offer_rate': 6, 'channel': 7, 'is_accepted': 8})\n",
            "Row(('REQ012385', 'INQ012385', 2, '론B', datetime.date(2025, 7, 1), 6820000.0, 11.659988285269723, 'Direct', False), {'loan_req_id': 0, 'inquiry_id': 1, 'table_reg_no': 2, 'product_id': 3, 'inquiry_date': 4, 'offer_limit': 5, 'offer_rate': 6, 'channel': 7, 'is_accepted': 8})\n",
            "Row(('REQ012385', 'INQ012385', 3, '론A', datetime.date(2025, 7, 1), 6002000.0, 15.266483741685633, 'Direct', True), {'loan_req_id': 0, 'inquiry_id': 1, 'table_reg_no': 2, 'product_id': 3, 'inquiry_date': 4, 'offer_limit': 5, 'offer_rate': 6, 'channel': 7, 'is_accepted': 8})\n",
            "Row(('REQ012931', 'INQ012931', 1, '론B', datetime.date(2025, 7, 1), 5195000.0, 11.856053137842741, 'Direct', False), {'loan_req_id': 0, 'inquiry_id': 1, 'table_reg_no': 2, 'product_id': 3, 'inquiry_date': 4, 'offer_limit': 5, 'offer_rate': 6, 'channel': 7, 'is_accepted': 8})\n",
            "Row(('REQ012931', 'INQ012931', 2, '론A', datetime.date(2025, 7, 1), 5179000.0, 13.024530820735567, 'Direct', False), {'loan_req_id': 0, 'inquiry_id': 1, 'table_reg_no': 2, 'product_id': 3, 'inquiry_date': 4, 'offer_limit': 5, 'offer_rate': 6, 'channel': 7, 'is_accepted': 8})\n",
            "Row(('REQ012931', 'INQ012931', 3, '론C', datetime.date(2025, 7, 1), 11854000.0, 14.757287242647658, 'Direct', True), {'loan_req_id': 0, 'inquiry_id': 1, 'table_reg_no': 2, 'product_id': 3, 'inquiry_date': 4, 'offer_limit': 5, 'offer_rate': 6, 'channel': 7, 'is_accepted': 8})\n",
            "Row(('REQ014211', 'INQ014211', 1, '론B', datetime.date(2025, 7, 1), 2558000.0, 17.241332092164114, 'Direct', False), {'loan_req_id': 0, 'inquiry_id': 1, 'table_reg_no': 2, 'product_id': 3, 'inquiry_date': 4, 'offer_limit': 5, 'offer_rate': 6, 'channel': 7, 'is_accepted': 8})\n",
            "Row(('REQ014211', 'INQ014211', 2, '론A', datetime.date(2025, 7, 1), 4232000.0, 15.50147081123956, 'Direct', False), {'loan_req_id': 0, 'inquiry_id': 1, 'table_reg_no': 2, 'product_id': 3, 'inquiry_date': 4, 'offer_limit': 5, 'offer_rate': 6, 'channel': 7, 'is_accepted': 8})\n",
            "Row(('REQ014211', 'INQ014211', 3, '론C', datetime.date(2025, 7, 1), 22878000.0, 19.088658933497776, 'Direct', True), {'loan_req_id': 0, 'inquiry_id': 1, 'table_reg_no': 2, 'product_id': 3, 'inquiry_date': 4, 'offer_limit': 5, 'offer_rate': 6, 'channel': 7, 'is_accepted': 8})\n",
            "Row(('REQ014265', 'INQ014265', 1, '론A', datetime.date(2025, 7, 1), 2463000.0, 13.941683731681541, 'Direct', False), {'loan_req_id': 0, 'inquiry_id': 1, 'table_reg_no': 2, 'product_id': 3, 'inquiry_date': 4, 'offer_limit': 5, 'offer_rate': 6, 'channel': 7, 'is_accepted': 8})\n",
            "Row(('REQ014265', 'INQ014265', 2, '론B', datetime.date(2025, 7, 1), 2010000.0, 10.754269712249691, 'Direct', False), {'loan_req_id': 0, 'inquiry_id': 1, 'table_reg_no': 2, 'product_id': 3, 'inquiry_date': 4, 'offer_limit': 5, 'offer_rate': 6, 'channel': 7, 'is_accepted': 8})\n",
            "Row(('REQ014265', 'INQ014265', 3, '론C', datetime.date(2025, 7, 1), 8017000.0, 11.296668994754551, 'Direct', False), {'loan_req_id': 0, 'inquiry_id': 1, 'table_reg_no': 2, 'product_id': 3, 'inquiry_date': 4, 'offer_limit': 5, 'offer_rate': 6, 'channel': 7, 'is_accepted': 8})\n",
            "Row(('REQ014472', 'INQ014472', 1, '론B', datetime.date(2025, 7, 1), 14142000.0, 11.607711059940227, 'Direct', False), {'loan_req_id': 0, 'inquiry_id': 1, 'table_reg_no': 2, 'product_id': 3, 'inquiry_date': 4, 'offer_limit': 5, 'offer_rate': 6, 'channel': 7, 'is_accepted': 8})\n",
            "Row(('REQ014472', 'INQ014472', 2, '론A', datetime.date(2025, 7, 1), 5332000.0, 12.675286264083867, 'Direct', True), {'loan_req_id': 0, 'inquiry_id': 1, 'table_reg_no': 2, 'product_id': 3, 'inquiry_date': 4, 'offer_limit': 5, 'offer_rate': 6, 'channel': 7, 'is_accepted': 8})\n",
            "Row(('REQ014472', 'INQ014472', 3, '론C', datetime.date(2025, 7, 1), 8103000.0, 13.552459777734537, 'Direct', False), {'loan_req_id': 0, 'inquiry_id': 1, 'table_reg_no': 2, 'product_id': 3, 'inquiry_date': 4, 'offer_limit': 5, 'offer_rate': 6, 'channel': 7, 'is_accepted': 8})\n",
            "Row(('REQ016802', 'INQ016802', 1, '론A', datetime.date(2025, 7, 1), 2517000.0, 16.52046629754311, 'Direct', False), {'loan_req_id': 0, 'inquiry_id': 1, 'table_reg_no': 2, 'product_id': 3, 'inquiry_date': 4, 'offer_limit': 5, 'offer_rate': 6, 'channel': 7, 'is_accepted': 8})\n",
            "Row(('REQ016802', 'INQ016802', 2, '론C', datetime.date(2025, 7, 1), 5078000.0, 18.073697011485226, 'Direct', True), {'loan_req_id': 0, 'inquiry_id': 1, 'table_reg_no': 2, 'product_id': 3, 'inquiry_date': 4, 'offer_limit': 5, 'offer_rate': 6, 'channel': 7, 'is_accepted': 8})\n",
            "Row(('REQ016802', 'INQ016802', 3, '론B', datetime.date(2025, 7, 1), 2436000.0, 13.122009010552912, 'Direct', False), {'loan_req_id': 0, 'inquiry_id': 1, 'table_reg_no': 2, 'product_id': 3, 'inquiry_date': 4, 'offer_limit': 5, 'offer_rate': 6, 'channel': 7, 'is_accepted': 8})\n",
            "Row(('REQ017832', 'INQ017832', 1, '론C', datetime.date(2025, 7, 1), 2681000.0, 11.977002865003287, 'Direct', False), {'loan_req_id': 0, 'inquiry_id': 1, 'table_reg_no': 2, 'product_id': 3, 'inquiry_date': 4, 'offer_limit': 5, 'offer_rate': 6, 'channel': 7, 'is_accepted': 8})\n",
            "Row(('REQ017832', 'INQ017832', 2, '론B', datetime.date(2025, 7, 1), 3099000.0, 10.488424823734285, 'Direct', False), {'loan_req_id': 0, 'inquiry_id': 1, 'table_reg_no': 2, 'product_id': 3, 'inquiry_date': 4, 'offer_limit': 5, 'offer_rate': 6, 'channel': 7, 'is_accepted': 8})\n",
            "Row(('REQ017832', 'INQ017832', 3, '론A', datetime.date(2025, 7, 1), 2412000.0, 11.543438449273856, 'Direct', False), {'loan_req_id': 0, 'inquiry_id': 1, 'table_reg_no': 2, 'product_id': 3, 'inquiry_date': 4, 'offer_limit': 5, 'offer_rate': 6, 'channel': 7, 'is_accepted': 8})\n",
            "Row(('REQ017964', 'INQ017964', 1, '론C', datetime.date(2025, 7, 1), 5053000.0, 17.02678238910341, 'Direct', False), {'loan_req_id': 0, 'inquiry_id': 1, 'table_reg_no': 2, 'product_id': 3, 'inquiry_date': 4, 'offer_limit': 5, 'offer_rate': 6, 'channel': 7, 'is_accepted': 8})\n",
            "Row(('REQ017964', 'INQ017964', 2, '론B', datetime.date(2025, 7, 1), 1932000.0, 12.961915224552603, 'Direct', False), {'loan_req_id': 0, 'inquiry_id': 1, 'table_reg_no': 2, 'product_id': 3, 'inquiry_date': 4, 'offer_limit': 5, 'offer_rate': 6, 'channel': 7, 'is_accepted': 8})\n",
            "Row(('REQ017964', 'INQ017964', 3, '론A', datetime.date(2025, 7, 1), 5864000.0, 14.06999895169484, 'Direct', True), {'loan_req_id': 0, 'inquiry_id': 1, 'table_reg_no': 2, 'product_id': 3, 'inquiry_date': 4, 'offer_limit': 5, 'offer_rate': 6, 'channel': 7, 'is_accepted': 8})\n",
            "Row(('REQ017964', 'INQ017964', 4, '론A', datetime.date(2025, 7, 1), 5183000.0, 13.806341272185767, 'Direct', True), {'loan_req_id': 0, 'inquiry_id': 1, 'table_reg_no': 2, 'product_id': 3, 'inquiry_date': 4, 'offer_limit': 5, 'offer_rate': 6, 'channel': 7, 'is_accepted': 8})\n"
          ]
        }
      ]
    },
    {
      "cell_type": "code",
      "metadata": {
        "id": "b7c16403"
      },
      "source": [
        "from google.cloud.bigquery import Client\n",
        "\n",
        "# Assuming the 'client' object is already initialized from previous steps\n",
        "# client = Client()\n",
        "\n",
        "project_id = 'bigquery-mockup-test'  # Replace with your GCP project ID\n",
        "dataset_id = 'mockup'      # Replace with your BigQuery dataset ID\n",
        "table_id_a = 'tb_a'          # Replace with your BigQuery table A ID\n",
        "table_id_b = 'tb_b'          # Replace with your BigQuery table B ID\n",
        "\n",
        "query = f\"\"\"\n",
        "SELECT\n",
        "    a.*,\n",
        "    b.offer_limit\n",
        "FROM\n",
        "    `{project_id}.{dataset_id}.{table_id_a}` AS a\n",
        "JOIN\n",
        "    (\n",
        "        SELECT\n",
        "            inquiry_id,\n",
        "            offer_limit,\n",
        "            ROW_NUMBER() OVER(PARTITION BY inquiry_id ORDER BY table_reg_no DESC) as rn -- inquiry_id별로 table_reg_no가 가장 큰(최근) 행을 선택\n",
        "        FROM\n",
        "            `{project_id}.{dataset_id}.{table_id_b}`\n",
        "    ) AS b\n",
        "ON a.inquiry_id = b.inquiry_id\n",
        "WHERE b.rn = 1 AND b.offer_limit = 0 -- Added condition to filter for offer_limit = 0\n",
        "LIMIT 100 -- Displaying the first 100 rows as an example\n",
        "\"\"\"\n",
        "\n",
        "query_job = client.query(query)\n",
        "results = query_job.result()\n",
        "\n",
        "# Display the results (first 100 rows)\n",
        "for i, row in enumerate(results):\n",
        "    if i == 0:\n",
        "        print(row.keys()) # Print column names\n",
        "    print(row)"
      ],
      "execution_count": 14,
      "outputs": []
    }
  ]
}