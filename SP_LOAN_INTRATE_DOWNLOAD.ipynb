{
  "nbformat": 4,
  "nbformat_minor": 0,
  "metadata": {
    "colab": {
      "provenance": [],
      "toc_visible": true,
      "include_colab_link": true
    },
    "kernelspec": {
      "name": "python3",
      "display_name": "Python 3"
    },
    "language_info": {
      "name": "python"
    }
  },
  "cells": [
    {
      "cell_type": "markdown",
      "metadata": {
        "id": "view-in-github",
        "colab_type": "text"
      },
      "source": [
        "<a href=\"https://colab.research.google.com/github/kty0307/Blog/blob/main/SP_LOAN_INTRATE_DOWNLOAD.ipynb\" target=\"_parent\"><img src=\"https://colab.research.google.com/assets/colab-badge.svg\" alt=\"Open In Colab\"/></a>"
      ]
    },
    {
      "cell_type": "markdown",
      "source": [
        "# **연월입력**"
      ],
      "metadata": {
        "id": "ahNmFXora57m"
      }
    },
    {
      "cell_type": "code",
      "source": [
        "year = 2024     ## ex) 2024\n",
        "month = 2       ## ex) 1"
      ],
      "metadata": {
        "id": "8lriejayapz0"
      },
      "execution_count": 36,
      "outputs": []
    },
    {
      "cell_type": "markdown",
      "source": [
        "# 0. 환경설정"
      ],
      "metadata": {
        "id": "P4KpDRsBhT1Z"
      }
    },
    {
      "cell_type": "code",
      "source": [
        "import requests\n",
        "import json\n",
        "import pandas as pd\n",
        "import urllib.parse\n",
        "import urllib3\n",
        "import ssl\n",
        "from urllib.parse import unquote\n",
        "from requests.adapters import HTTPAdapter\n",
        "from urllib3.util.ssl_ import create_urllib3_context\n",
        "from bs4 import BeautifulSoup\n",
        "from urllib.parse import urlencode\n",
        "import io\n",
        "from google.colab import files"
      ],
      "metadata": {
        "id": "Ydjx7-LnhZbR"
      },
      "execution_count": 23,
      "outputs": []
    },
    {
      "cell_type": "code",
      "source": [
        "class TLSAdapter(requests.adapters.HTTPAdapter):\n",
        "    def init_poolmanager(self, *args, **kwargs):\n",
        "        ctx = ssl.create_default_context()\n",
        "        ctx.set_ciphers(\"AES128-SHA256\")\n",
        "        kwargs[\"ssl_context\"] = ctx\n",
        "        return super(TLSAdapter, self).init_poolmanager(*args, **kwargs)"
      ],
      "metadata": {
        "id": "Bs9OkcwmhQCz"
      },
      "execution_count": 24,
      "outputs": []
    },
    {
      "cell_type": "code",
      "source": [
        "class NewTLSAdapter(HTTPAdapter):\n",
        "    def init_poolmanager(self, *args, **kwargs):\n",
        "        ctx = ssl.create_default_context()\n",
        "        ctx.set_ciphers(\"AES128-SHA256\")  # 원하는 Cipher Suite 설정\n",
        "        kwargs[\"ssl_context\"] = ctx\n",
        "        return super().init_poolmanager(*args, **kwargs)"
      ],
      "metadata": {
        "id": "7dipUfkrGATt"
      },
      "execution_count": 25,
      "outputs": []
    },
    {
      "cell_type": "code",
      "source": [
        "def subtract_month(df, col_name, new_col_name):\n",
        "    df[new_col_name] = pd.to_datetime(df[col_name], format='%Y%m') - pd.DateOffset(months=1)\n",
        "    df[new_col_name] = df[new_col_name].dt.strftime('%Y%m').astype(int)\n",
        "    return df"
      ],
      "metadata": {
        "id": "48RrLSxHOa-g"
      },
      "execution_count": 26,
      "outputs": []
    },
    {
      "cell_type": "markdown",
      "source": [
        "# 1. 저축은행"
      ],
      "metadata": {
        "id": "J3lXzhcuux1D"
      }
    },
    {
      "cell_type": "markdown",
      "source": [
        "## 1.1. 신용점수별 금리"
      ],
      "metadata": {
        "id": "QgxQNQC5u8Lf"
      }
    },
    {
      "cell_type": "code",
      "execution_count": 27,
      "metadata": {
        "id": "FLzfYCzevCcY"
      },
      "outputs": [],
      "source": [
        "def savings_cs(year, month):\n",
        "  url = \"https://www.fsb.or.kr/ratloanconf_0200.jct\"\n",
        "  payload = {\n",
        "      \"_JSON_\": json.dumps({\n",
        "          \"SORT_COLUMN\": \"\",\n",
        "          \"SORT\": \"\",\n",
        "          \"PRE_MONTH_MONEY\": \"\",\n",
        "          \"SUBMIT_MONTH\": f\"{year:04d}{month:02d}\"\n",
        "      })\n",
        "  }\n",
        "\n",
        "  response = requests.post(url, data=payload)\n",
        "\n",
        "  data = response.text\n",
        "\n",
        "  json_data = json.loads(data)\n",
        "\n",
        "  # 데이터 추출 및 DataFrame 생성\n",
        "  df = pd.DataFrame(json_data['REC'])\n",
        "  df = df[['BANK_NAME', 'SUBMIT_MONTH', 'A_RATE1_3', 'A_RATE1', 'A_RATE2',\n",
        "            'A_RATE3', 'A_RATE_AVE']]\n",
        "\n",
        "  df.columns = ['사명','공시연월','900점대','800점대','700점대','600점대','평균금리']\n",
        "\n",
        "  df['업권'] = '저축은행업권'\n",
        "\n",
        "  df = subtract_month(df, '공시연월', '연월')\n",
        "\n",
        "  df = df[['사명','연월','업권','평균금리','900점대','800점대','700점대','600점대','공시연월']]\n",
        "\n",
        "  return df"
      ]
    },
    {
      "cell_type": "markdown",
      "source": [
        "## 1.2. 금리대별 취급비중"
      ],
      "metadata": {
        "id": "IhBJlcgueWff"
      }
    },
    {
      "cell_type": "code",
      "source": [
        "def savings_int(year, month):\n",
        "    url = \"https://www.fsb.or.kr/ratloanconf_0300.jct\"\n",
        "\n",
        "    payload = {\n",
        "        \"SORT\": \"\",\n",
        "        \"SUBMIT_MONTH\": f\"{year}{month:02}\"\n",
        "    }\n",
        "\n",
        "    response = requests.post(url, data={\"_JSON_\": json.dumps(payload)})\n",
        "    response.raise_for_status()  # HTTP 오류 발생 시 예외 발생\n",
        "\n",
        "    data = json.loads(response.text)\n",
        "\n",
        "    df = pd.DataFrame(data[\"REC\"])  # 모든 열을 포함하는 DataFrame 생성\n",
        "\n",
        "    # 원하는 열만 선택\n",
        "    desired_columns = [\"BANK_NAME\", \"SUBMIT_MONTH\", \"HANDING_WEIGHT_10\", \"HANDING_WEIGHT_12\", \"HANDING_WEIGHT_14\"\n",
        "                        ,\"HANDING_WEIGHT_16\", \"HANDING_WEIGHT_18\", \"HANDING_WEIGHT_20\"]\n",
        "    df = df[desired_columns] #원하는 열만 남기기\n",
        "\n",
        "    df.columns = ['사명','제출연월','10%이하','12%이하','14%이하','16%이하','18%이하','20%이하']\n",
        "\n",
        "    df['업권'] = '저축은행업권'\n",
        "\n",
        "    return df"
      ],
      "metadata": {
        "id": "mNkb1772tX58"
      },
      "execution_count": 18,
      "outputs": []
    },
    {
      "cell_type": "markdown",
      "source": [
        "# 2. 신용카드"
      ],
      "metadata": {
        "id": "RGGrb_S1lwy6"
      }
    },
    {
      "cell_type": "markdown",
      "source": [
        "## 2.1. 카드론_신용점수별 금리"
      ],
      "metadata": {
        "id": "1mNSjFXOg_SM"
      }
    },
    {
      "cell_type": "code",
      "source": [
        "def card_loan_cs(year, month):\n",
        "    url = \"https://gongsi.crefia.or.kr/portal/creditcard/creditcardDisclosureDetail25Ajax\"\n",
        "\n",
        "    # cgc_seq(월)을 찾기 위한 크롤링\n",
        "    with requests.session() as s:\n",
        "      s.mount(\"https://\", TLSAdapter())\n",
        "\n",
        "      params = {\n",
        "        \"cgcSeq\": 1458,\n",
        "        \"cgcMode\": 25,\n",
        "        \"cgcYyyy\": year,\n",
        "        \"mcSeq\": []\n",
        "      }\n",
        "\n",
        "      response = s.get(url, params=params)\n",
        "      response.raise_for_status()  # HTTP 오류 발생 시 예외 발생\n",
        "\n",
        "    pick_month = json.loads(response.text)  # 응답 문자열 반환\n",
        "\n",
        "    for item in pick_month['configListMm']:\n",
        "        if item['cgcquarter'] == month:\n",
        "            cgc_seq = item['cgcSeq']\n",
        "            break  # 첫 번째로 찾은 값만 출력하고 반복문 종료\n",
        "\n",
        "    # 실제 데이터를 추출하기 위한 크롤링\n",
        "    with requests.session() as s:\n",
        "      s.mount(\"https://\", TLSAdapter())\n",
        "\n",
        "      params = {\n",
        "        \"cgcSeq\": cgc_seq,\n",
        "        \"cgcMode\": 25,\n",
        "        \"cgcYyyy\": year,\n",
        "        \"mcSeq\": [31, 96, 1, 106, 14, 13, 12, 98, 502, 108, 619, 11, 97, 105, 103, 22]\n",
        "      }\n",
        "\n",
        "      response = s.get(url, params=params)\n",
        "      response.raise_for_status()  # HTTP 오류 발생 시 예외 발생\n",
        "\n",
        "    data = json.loads(response.text)\n",
        "\n",
        "    pick_data = data[\"resultList\"]\n",
        "    df = pd.DataFrame(pick_data)  # 모든 열을 포함하는 DataFrame 생성\n",
        "\n",
        "    # 원하는 열만 선택\n",
        "    df = df[[\"mcCompany\", \"cgcSeq\", \"cgCardPoint1\", \"cgCardPoint2\", \"cgCardPoint3\"\n",
        "                ,\"cgCardPoint4\", \"cgCardPointAvg\"]] #원하는 열만 남기기\n",
        "\n",
        "    df[\"cgcSeq\"] = f\"{year}{month:02}\" if month < 10 else f\"{year}{month}\"\n",
        "\n",
        "    df.columns = ['사명','공시연월','900점대','800점대','700점대','600점대','평균금리']\n",
        "\n",
        "    df['업권'] = '신용카드업권(카드론)'\n",
        "\n",
        "    df = subtract_month(df, '공시연월', '연월')\n",
        "\n",
        "    df = df[['사명','연월','업권','평균금리','900점대','800점대','700점대','600점대','공시연월']]\n",
        "\n",
        "    return df"
      ],
      "metadata": {
        "id": "KN0PfekfmLr9"
      },
      "execution_count": 28,
      "outputs": []
    },
    {
      "cell_type": "markdown",
      "source": [
        "## 2.2. 현금서비스_신용점수별 금리"
      ],
      "metadata": {
        "id": "Ej_wGuU3mFbX"
      }
    },
    {
      "cell_type": "code",
      "source": [
        "def card_cash_cs(year, month):\n",
        "    url = \"https://gongsi.crefia.or.kr/portal/creditcard/creditcardDisclosureDetail20Ajax\"\n",
        "\n",
        "    # cgc_seq(월)을 찾기 위한 크롤링\n",
        "    with requests.session() as s:\n",
        "      s.mount(\"https://\", TLSAdapter())\n",
        "\n",
        "      params = {\n",
        "        \"cgcSeq\": 1460,\n",
        "        \"cgcMode\": 20,\n",
        "        \"cgcYyyy\": year,\n",
        "        \"mcSeq\": []\n",
        "      }\n",
        "\n",
        "      response = s.get(url, params=params)\n",
        "      response.raise_for_status()  # HTTP 오류 발생 시 예외 발생\n",
        "\n",
        "    pick_month = json.loads(response.text)  # 응답 문자열 반환\n",
        "\n",
        "    for item in pick_month['configListMm']:\n",
        "        if item['cgcquarter'] == month:\n",
        "            cgc_seq = item['cgcSeq']\n",
        "            break  # 첫 번째로 찾은 값만 출력하고 반복문 종료\n",
        "\n",
        "    # 실제 데이터를 추출하기 위한 크롤링\n",
        "    with requests.session() as s:\n",
        "      s.mount(\"https://\", TLSAdapter())\n",
        "\n",
        "      params = {\n",
        "        \"cgcSeq\": cgc_seq,\n",
        "        \"cgcMode\": 20,\n",
        "        \"cgcYyyy\": year,\n",
        "        \"mcSeq\": [31, 96, 1, 106, 14, 13, 12, 98, 502, 108, 619, 11, 97, 105, 103, 22]\n",
        "      }\n",
        "\n",
        "      response = s.get(url, params=params)\n",
        "      response.raise_for_status()  # HTTP 오류 발생 시 예외 발생\n",
        "\n",
        "    data = json.loads(response.text)\n",
        "\n",
        "    pick_data = data[\"resultList\"]\n",
        "    df = pd.DataFrame(pick_data)  # 모든 열을 포함하는 DataFrame 생성\n",
        "\n",
        "    # 원하는 열만 선택\n",
        "    df = df[[\"mcCompany\", \"cgcSeq\", \"cgMoneyPoint1\", \"cgMoneyPoint2\", \"cgMoneyPoint3\"\n",
        "                ,\"cgMoneyPoint4\", \"cgMoneyPointAvg\"]] #원하는 열만 남기기\n",
        "\n",
        "    df[\"cgcSeq\"] = f\"{year}{month:02}\" if month < 10 else f\"{year}{month}\"\n",
        "\n",
        "    df.columns = ['사명','공시연월','900점대','800점대','700점대','600점대','평균금리']\n",
        "\n",
        "    df['업권'] = '신용카드업권(현금서비스)'\n",
        "\n",
        "    df = subtract_month(df, '공시연월', '연월')\n",
        "\n",
        "    df = df[['사명','연월','업권','평균금리','900점대','800점대','700점대','600점대','공시연월']]\n",
        "\n",
        "    return df"
      ],
      "metadata": {
        "id": "DIeTrC15mJ7k"
      },
      "execution_count": 29,
      "outputs": []
    },
    {
      "cell_type": "markdown",
      "source": [
        "# 3. 캐피탈"
      ],
      "metadata": {
        "id": "472smkfsjYu-"
      }
    },
    {
      "cell_type": "markdown",
      "source": [
        "## 3.1. 신용점수별 금리"
      ],
      "metadata": {
        "id": "l74D61GBjiWZ"
      }
    },
    {
      "cell_type": "code",
      "source": [
        "def capital_cs(year, month):\n",
        "    url = \"https://gongsi.crefia.or.kr/portal/creditloan/creditloanDisclosureDetail11/ajax\"\n",
        "\n",
        "    with requests.session() as s:\n",
        "      s.mount(\"https://\", TLSAdapter())\n",
        "\n",
        "      params = {\n",
        "          \"clgcMode\": 11,\n",
        "          \"cardItem\": \"134,39,40,623,130,41,25,156,6,55,32,58,52,61,57,64\",\n",
        "          \"clgcSeq\": 521,\n",
        "          \"clgcYyyy\": 2024\n",
        "      }\n",
        "\n",
        "      response = s.get(url, params=params)\n",
        "      response.raise_for_status()  # HTTP 오류 발생 시 예외 발생\n",
        "\n",
        "    pick_month = json.loads(response.text)  # 응답 문자열 반환\n",
        "\n",
        "    for item in pick_month['configListMm']:\n",
        "        if item['clgcquarter'] == month:\n",
        "            clgc_seq = item['clgcSeq']\n",
        "            break  # 첫 번째로 찾은 값만 출력하고 반복문 종료\n",
        "\n",
        "    # 실제 데이터를 추출하기 위한 크롤링\n",
        "    with requests.session() as s:\n",
        "      s.mount(\"https://\", TLSAdapter())\n",
        "\n",
        "      params = {\n",
        "          \"clgcMode\": 11,\n",
        "          \"cardItem\": \"134,39,40,623,130,41,25,156,6,55,32,58,52,61,57,64\",\n",
        "          \"clgcSeq\": clgc_seq,\n",
        "          \"clgcYyyy\": year\n",
        "      }\n",
        "\n",
        "      response = s.get(url, params=params)\n",
        "      response.raise_for_status()  # HTTP 오류 발생 시 예외 발생\n",
        "\n",
        "    data = json.loads(response.text)\n",
        "\n",
        "    pick_data = data[\"resultList\"]\n",
        "    df = pd.DataFrame(pick_data)  # 모든 열을 포함하는 DataFrame 생성\n",
        "\n",
        "    # 원하는 열만 선택\n",
        "    df = df[[\"mcCompany\", \"clgcSeq\", \"clgPoint1\", \"clgPoint2\", \"clgPoint3\"\n",
        "                ,\"clgPoint4\", \"clgPointAvg\"]] #원하는 열만 남기기\n",
        "\n",
        "    df[\"clgcSeq\"] = f\"{year}{month:02}\" if month < 10 else f\"{year}{month}\"\n",
        "\n",
        "    df.columns = ['사명','공시연월','900점대','800점대','700점대','600점대','평균금리']\n",
        "\n",
        "    df['업권'] = '캐피탈업권'\n",
        "\n",
        "    df = subtract_month(df, '공시연월', '연월')\n",
        "\n",
        "    df = df[['사명','연월','업권','평균금리','900점대','800점대','700점대','600점대','공시연월']]\n",
        "\n",
        "    return df\n"
      ],
      "metadata": {
        "id": "lRXebd3UjoYU"
      },
      "execution_count": 30,
      "outputs": []
    },
    {
      "cell_type": "markdown",
      "source": [
        "# 4. 은행"
      ],
      "metadata": {
        "id": "F7Rbe1Nwceqn"
      }
    },
    {
      "cell_type": "markdown",
      "source": [
        "## 4.1. 신용점수별 금리"
      ],
      "metadata": {
        "id": "KAiLcPkEP5Sd"
      }
    },
    {
      "cell_type": "code",
      "source": [
        "def bank_cs(year, month):\n",
        "    url = \"https://portal.kfb.or.kr/compare/loan_household_new_search_result_new.php\"\n",
        "\n",
        "    payload = {\n",
        "        \"year\": year,\n",
        "        \"month\": f\"{month:02}\",\n",
        "        \"opt_1\": 3,\n",
        "        \"detail\": 0,\n",
        "        \"str\": \"KDB%BB%EA%BE%F7%C0%BA%C7%E0|NH%B3%F3%C7%F9%C0%BA%C7%E0|%BD%C5%C7%D1%C0%BA%C7%E0|%BF%EC%B8%AE%C0%BA%C7%E0|SC%C1%A6%C0%CF%C0%BA%C7%E0|%C7%CF%B3%AA%C0%BA%C7%E0|IBK%B1%E2%BE%F7%C0%BA%C7%E0|KB%B1%B9%B9%CE%C0%BA%C7%E0|%C7%D1%B1%B9%BE%BE%C6%BC%C0%BA%C7%E0|Sh%BC%F6%C7%F9%C0%BA%C7%E0|iM%B9%F0%C5%A9%28%B1%B8+%B4%EB%B1%B8%C0%BA%C7%E0%29|BNK%BA%CE%BB%EA%C0%BA%C7%E0|%B1%A4%C1%D6%C0%BA%C7%E0|%C1%A6%C1%D6%C0%BA%C7%E0|%C0%FC%BA%CF%C0%BA%C7%E0|BNK%B0%E6%B3%B2%C0%BA%C7%E0|%C4%C9%C0%CC%B9%F0%C5%A9|%C4%AB%C4%AB%BF%C0%B9%F0%C5%A9|%C5%E4%BD%BA%B9%F0%C5%A9\",\n",
        "        \"select_new_balance\": 1\n",
        "    }\n",
        "\n",
        "    headers = {\n",
        "        \"Accept\": \"*/*\",\n",
        "        \"Accept-Encoding\": \"gzip, deflate, br, zstd\",\n",
        "        \"Accept-Language\": \"ko-KR,ko;q=0.9,en-US;q=0.8,en;q=0.7\",\n",
        "        \"Connection\": \"keep-alive\",\n",
        "        \"Content-Type\": \"application/x-www-form-urlencoded; charset=UTF-8\",\n",
        "        \"Host\": \"portal.kfb.or.kr\",\n",
        "        \"Origin\": \"https://portal.kfb.or.kr\",\n",
        "        \"Referer\": \"https://portal.kfb.or.kr/compare/loan_household_new.php\",\n",
        "        \"User-Agent\": \"Mozilla/5.0 (Windows NT 10.0; Win64; x64) AppleWebKit/537.36 (KHTML, like Gecko) Chrome/133.0.0.0 Safari/537.36\",\n",
        "        \"X-Requested-With\": \"XMLHttpRequest\",\n",
        "    }\n",
        "    with requests.session() as s:\n",
        "        s.mount(\"https://\", TLSAdapter())\n",
        "        try:\n",
        "            response = s.post(url, data=payload, headers=headers)\n",
        "            response.raise_for_status()\n",
        "            response.encoding = 'euc-kr'\n",
        "\n",
        "        except requests.exceptions.RequestException as e:\n",
        "            print(f\"요청 실패: {e}\")\n",
        "            return None\n",
        "\n",
        "    soup = BeautifulSoup(response.text, 'html.parser')\n",
        "\n",
        "    table = soup.find('table')\n",
        "    data = []\n",
        "    rows = table.find_all('tr')[2:]\n",
        "    for row in rows:\n",
        "        cols = [col.text.strip() for col in row.find_all('td')]\n",
        "        cols[1] = cols[1] + cols[2]\n",
        "        # cols.pop(2)\n",
        "        data.append(cols)\n",
        "\n",
        "    df = pd.DataFrame(data)\n",
        "\n",
        "    df = df[[0,2,3,4,5,6,7,8,9,11]]\n",
        "\n",
        "    for col in [2,3,4,5,6,7,8,9,11]:\n",
        "      df[col] = pd.to_numeric(df[col], errors='coerce')\n",
        "\n",
        "    df['900점대'] = df[[2, 3]].mean(axis=1)\n",
        "    df['800점대'] = df[[4, 5]].mean(axis=1)\n",
        "    df['700점대'] = df[[6, 7]].mean(axis=1)\n",
        "    df['600점대'] = df[[8, 9]].mean(axis=1)\n",
        "\n",
        "    df['업권'] = df[0].apply(lambda x:\n",
        "        '은행업권_지방' if any(city in x for city in ['대구', '부산', '광주', '제주', '전북', '경남']) else\n",
        "        '은행업권_인터넷' if any(bank in x for bank in ['케이', '카카오', '토스']) else\n",
        "        '은행업권_특수' if any(spc in x for spc in ['수협', '기업']) else\n",
        "        '은행업권_시중'\n",
        "    )\n",
        "    df['공시연월'] = f\"{year}{month:02}\" if month < 10 else f\"{year}{month}\"\n",
        "\n",
        "    df = subtract_month(df, '공시연월', '연월')\n",
        "\n",
        "    df.rename(columns={0: '사명', 11:'평균금리'}, inplace=True)\n",
        "\n",
        "    df = df[['사명','연월','업권','평균금리','900점대','800점대','700점대','600점대','공시연월']]\n",
        "\n",
        "    df.dropna(subset=['평균금리'], inplace=True)\n",
        "\n",
        "    return df"
      ],
      "metadata": {
        "id": "-ljI1CFoHzsf"
      },
      "execution_count": 31,
      "outputs": []
    },
    {
      "cell_type": "markdown",
      "source": [
        "# 5. 데이터 처리 및 다운로드"
      ],
      "metadata": {
        "id": "4owpDReQW3oF"
      }
    },
    {
      "cell_type": "code",
      "source": [
        "file_names = f'SP_INTRATE_{year}{month:02d}.csv'"
      ],
      "metadata": {
        "id": "4fV0dE0Iaw7i"
      },
      "execution_count": 37,
      "outputs": []
    },
    {
      "cell_type": "code",
      "source": [
        "dfs = []\n",
        "\n",
        "try:\n",
        "  dfs.append(savings_cs(year, month))\n",
        "except Exception:\n",
        "  pass\n",
        "try:\n",
        "  dfs.append(card_loan_cs(year, month))\n",
        "except Exception:\n",
        "  pass\n",
        "try:\n",
        "  dfs.append(card_cash_cs(year, month))\n",
        "except Exception:\n",
        "  pass\n",
        "try:\n",
        "  dfs.append(capital_cs(year, month))\n",
        "except Exception:\n",
        "  pass\n",
        "try:\n",
        "  dfs.append(bank_cs(year, month))\n",
        "except Exception:\n",
        "  pass\n",
        "\n",
        "result = pd.concat(dfs, ignore_index=True)\n",
        "result.to_csv(file_names, index=False, encoding='euc-kr')\n",
        "files.download(file_names)"
      ],
      "metadata": {
        "id": "3QPEuOy5W2lc",
        "outputId": "e83a3c30-32b6-4397-99e6-5d6ec9523eb4",
        "colab": {
          "base_uri": "https://localhost:8080/",
          "height": 17
        }
      },
      "execution_count": 38,
      "outputs": [
        {
          "output_type": "display_data",
          "data": {
            "text/plain": [
              "<IPython.core.display.Javascript object>"
            ],
            "application/javascript": [
              "\n",
              "    async function download(id, filename, size) {\n",
              "      if (!google.colab.kernel.accessAllowed) {\n",
              "        return;\n",
              "      }\n",
              "      const div = document.createElement('div');\n",
              "      const label = document.createElement('label');\n",
              "      label.textContent = `Downloading \"${filename}\": `;\n",
              "      div.appendChild(label);\n",
              "      const progress = document.createElement('progress');\n",
              "      progress.max = size;\n",
              "      div.appendChild(progress);\n",
              "      document.body.appendChild(div);\n",
              "\n",
              "      const buffers = [];\n",
              "      let downloaded = 0;\n",
              "\n",
              "      const channel = await google.colab.kernel.comms.open(id);\n",
              "      // Send a message to notify the kernel that we're ready.\n",
              "      channel.send({})\n",
              "\n",
              "      for await (const message of channel.messages) {\n",
              "        // Send a message to notify the kernel that we're ready.\n",
              "        channel.send({})\n",
              "        if (message.buffers) {\n",
              "          for (const buffer of message.buffers) {\n",
              "            buffers.push(buffer);\n",
              "            downloaded += buffer.byteLength;\n",
              "            progress.value = downloaded;\n",
              "          }\n",
              "        }\n",
              "      }\n",
              "      const blob = new Blob(buffers, {type: 'application/binary'});\n",
              "      const a = document.createElement('a');\n",
              "      a.href = window.URL.createObjectURL(blob);\n",
              "      a.download = filename;\n",
              "      div.appendChild(a);\n",
              "      a.click();\n",
              "      div.remove();\n",
              "    }\n",
              "  "
            ]
          },
          "metadata": {}
        },
        {
          "output_type": "display_data",
          "data": {
            "text/plain": [
              "<IPython.core.display.Javascript object>"
            ],
            "application/javascript": [
              "download(\"download_861c584b-ec27-4da7-afba-e3882812e1d0\", \"SP_INTRATE_202402.csv\", 6718)"
            ]
          },
          "metadata": {}
        }
      ]
    },
    {
      "cell_type": "markdown",
      "source": [
        "# 6. DB생성_업데이트에는 사용하지 않음"
      ],
      "metadata": {
        "id": "BiCR23l8UrLj"
      }
    },
    {
      "cell_type": "code",
      "source": [
        "# start_year = 2020\n",
        "# start_month = 2\n",
        "# end_year = 2025\n",
        "# end_month = 2\n",
        "\n",
        "# dfs = []\n",
        "# for year in range(start_year, end_year + 1):\n",
        "#     start = start_month if year == start_year else 1\n",
        "#     end = end_month + 1 if year == end_year else 13\n",
        "#     for month in range(start, end):\n",
        "#         try:\n",
        "#           dfs.append(savings_cs(year, month))\n",
        "#         except Exception:\n",
        "#           pass\n",
        "#         try:\n",
        "#           dfs.append(card_loan_cs(year, month))\n",
        "#         except Exception:\n",
        "#           pass\n",
        "#         try:\n",
        "#           dfs.append(card_cash_cs(year, month))\n",
        "#         except Exception:\n",
        "#           pass\n",
        "#         try:\n",
        "#           dfs.append(capital_cs(year, month))\n",
        "#         except Exception:\n",
        "#           pass\n",
        "#         try:\n",
        "#           dfs.append(bank_cs(year, month))\n",
        "#         except Exception:\n",
        "#           pass\n",
        "\n",
        "# result = pd.concat(dfs, ignore_index=True)\n",
        "# result.to_csv(file_names, index=False, encoding='euc-kr')\n",
        "# files.download(file_names)"
      ],
      "metadata": {
        "id": "CmqF4-Z2BPUO"
      },
      "execution_count": null,
      "outputs": []
    }
  ]
}