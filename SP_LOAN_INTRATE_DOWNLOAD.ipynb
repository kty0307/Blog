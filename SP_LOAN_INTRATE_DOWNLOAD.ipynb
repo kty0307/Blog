{
  "nbformat": 4,
  "nbformat_minor": 0,
  "metadata": {
    "colab": {
      "provenance": [],
      "toc_visible": true,
      "authorship_tag": "ABX9TyNSe/9i463kUufJ0fbP1zLa",
      "include_colab_link": true
    },
    "kernelspec": {
      "name": "python3",
      "display_name": "Python 3"
    },
    "language_info": {
      "name": "python"
    }
  },
  "cells": [
    {
      "cell_type": "markdown",
      "metadata": {
        "id": "view-in-github",
        "colab_type": "text"
      },
      "source": [
        "<a href=\"https://colab.research.google.com/github/kty0307/Blog/blob/main/SP_LOAN_INTRATE_DOWNLOAD.ipynb\" target=\"_parent\"><img src=\"https://colab.research.google.com/assets/colab-badge.svg\" alt=\"Open In Colab\"/></a>"
      ]
    },
    {
      "cell_type": "markdown",
      "source": [
        "# **연월입력**"
      ],
      "metadata": {
        "id": "ahNmFXora57m"
      }
    },
    {
      "cell_type": "code",
      "source": [
        "year = 2025     ## ex) 2024\n",
        "month = 2       ## ex) 1"
      ],
      "metadata": {
        "id": "8lriejayapz0"
      },
      "execution_count": 1,
      "outputs": []
    },
    {
      "cell_type": "markdown",
      "source": [
        "# 0. 환경설정"
      ],
      "metadata": {
        "id": "P4KpDRsBhT1Z"
      }
    },
    {
      "cell_type": "code",
      "source": [
        "import requests\n",
        "import json\n",
        "import pandas as pd\n",
        "import urllib.parse\n",
        "import urllib3\n",
        "import ssl\n",
        "from urllib.parse import unquote\n",
        "from requests.adapters import HTTPAdapter\n",
        "from urllib3.util.ssl_ import create_urllib3_context\n",
        "from bs4 import BeautifulSoup\n",
        "from google.colab import files"
      ],
      "metadata": {
        "id": "Ydjx7-LnhZbR"
      },
      "execution_count": 2,
      "outputs": []
    },
    {
      "cell_type": "code",
      "source": [
        "class TLSAdapter(requests.adapters.HTTPAdapter):\n",
        "    def init_poolmanager(self, *args, **kwargs):\n",
        "        ctx = ssl.create_default_context()\n",
        "        ctx.set_ciphers(\"AES128-SHA256\")\n",
        "        kwargs[\"ssl_context\"] = ctx\n",
        "        return super(TLSAdapter, self).init_poolmanager(*args, **kwargs)"
      ],
      "metadata": {
        "id": "Bs9OkcwmhQCz"
      },
      "execution_count": 3,
      "outputs": []
    },
    {
      "cell_type": "code",
      "source": [
        "class NewTLSAdapter(HTTPAdapter):\n",
        "    def init_poolmanager(self, *args, **kwargs):\n",
        "        ctx = ssl.create_default_context()\n",
        "        ctx.set_ciphers(\"AES128-SHA256\")  # 원하는 Cipher Suite 설정\n",
        "        kwargs[\"ssl_context\"] = ctx\n",
        "        return super().init_poolmanager(*args, **kwargs)"
      ],
      "metadata": {
        "id": "7dipUfkrGATt"
      },
      "execution_count": 4,
      "outputs": []
    },
    {
      "cell_type": "code",
      "source": [
        "def subtract_month(df, col_name, new_col_name):\n",
        "    df[new_col_name] = pd.to_datetime(df[col_name], format='%Y%m') - pd.DateOffset(months=1)\n",
        "    df[new_col_name] = df[new_col_name].dt.strftime('%Y%m').astype(int)\n",
        "    return df"
      ],
      "metadata": {
        "id": "48RrLSxHOa-g"
      },
      "execution_count": 5,
      "outputs": []
    },
    {
      "cell_type": "markdown",
      "source": [
        "# 1. 저축은행"
      ],
      "metadata": {
        "id": "J3lXzhcuux1D"
      }
    },
    {
      "cell_type": "markdown",
      "source": [
        "## 1.1. 신용점수별 금리"
      ],
      "metadata": {
        "id": "QgxQNQC5u8Lf"
      }
    },
    {
      "cell_type": "code",
      "execution_count": 6,
      "metadata": {
        "id": "FLzfYCzevCcY"
      },
      "outputs": [],
      "source": [
        "def savings_cs(year, month):\n",
        "  url = \"https://www.fsb.or.kr/ratloanconf_0200.jct\"\n",
        "  payload = {\n",
        "      \"_JSON_\": json.dumps({\n",
        "          \"SORT_COLUMN\": \"\",\n",
        "          \"SORT\": \"\",\n",
        "          \"PRE_MONTH_MONEY\": \"\",\n",
        "          \"SUBMIT_MONTH\": f\"{year:04d}{month:02d}\"\n",
        "      })\n",
        "  }\n",
        "\n",
        "  response = requests.post(url, data=payload)\n",
        "\n",
        "  data = response.text\n",
        "\n",
        "  json_data = json.loads(data)\n",
        "\n",
        "  # 데이터 추출 및 DataFrame 생성\n",
        "  df = pd.DataFrame(json_data['REC'])\n",
        "  df = df[['BANK_NAME', 'SUBMIT_MONTH', 'A_RATE1_3', 'A_RATE1', 'A_RATE2',\n",
        "            'A_RATE3', 'A_RATE_AVE']]\n",
        "\n",
        "  df.columns = ['사명','공시연월','900점대','800점대','700점대','600점대','평균금리']\n",
        "\n",
        "  df['업권'] = '저축은행업권'\n",
        "\n",
        "  df = subtract_month(df, '공시연월', '연월')\n",
        "\n",
        "  df = df[['사명','연월','업권','평균금리','900점대','800점대','700점대','600점대','공시연월']]\n",
        "\n",
        "  return df"
      ]
    },
    {
      "cell_type": "markdown",
      "source": [
        "## 1.2. 금리대별 취급비중"
      ],
      "metadata": {
        "id": "IhBJlcgueWff"
      }
    },
    {
      "cell_type": "code",
      "source": [
        "def savings_int(year, month):\n",
        "    url = \"https://www.fsb.or.kr/ratloanconf_0300.jct\"\n",
        "\n",
        "    payload = {\n",
        "        \"SORT\": \"\",\n",
        "        \"SUBMIT_MONTH\": f\"{year}{month:02}\"\n",
        "    }\n",
        "\n",
        "    response = requests.post(url, data={\"_JSON_\": json.dumps(payload)})\n",
        "    response.raise_for_status()  # HTTP 오류 발생 시 예외 발생\n",
        "\n",
        "    data = json.loads(response.text)\n",
        "\n",
        "    df = pd.DataFrame(data[\"REC\"])  # 모든 열을 포함하는 DataFrame 생성\n",
        "\n",
        "    # 원하는 열만 선택\n",
        "    desired_columns = [\"BANK_NAME\", \"SUBMIT_MONTH\", \"HANDING_WEIGHT_10\", \"HANDING_WEIGHT_12\", \"HANDING_WEIGHT_14\"\n",
        "                        ,\"HANDING_WEIGHT_16\", \"HANDING_WEIGHT_18\", \"HANDING_WEIGHT_20\"]\n",
        "    df = df[desired_columns] #원하는 열만 남기기\n",
        "\n",
        "    df.columns = ['사명','제출연월','10%이하','12%이하','14%이하','16%이하','18%이하','20%이하']\n",
        "\n",
        "    df['업권'] = '저축은행업권'\n",
        "\n",
        "    return df"
      ],
      "metadata": {
        "id": "mNkb1772tX58"
      },
      "execution_count": 7,
      "outputs": []
    },
    {
      "cell_type": "markdown",
      "source": [
        "# 2. 신용카드"
      ],
      "metadata": {
        "id": "RGGrb_S1lwy6"
      }
    },
    {
      "cell_type": "markdown",
      "source": [
        "## 2.1. 카드론_신용점수별 금리"
      ],
      "metadata": {
        "id": "1mNSjFXOg_SM"
      }
    },
    {
      "cell_type": "code",
      "source": [
        "def card_loan_cs(year, month):\n",
        "    url = \"https://gongsi.crefia.or.kr/portal/creditcard/creditcardDisclosureDetail25Ajax\"\n",
        "\n",
        "    # cgc_seq(월)을 찾기 위한 크롤링\n",
        "    with requests.session() as s:\n",
        "      s.mount(\"https://\", TLSAdapter())\n",
        "\n",
        "      params = {\n",
        "        \"cgcSeq\": 1458,\n",
        "        \"cgcMode\": 25,\n",
        "        \"cgcYyyy\": year,\n",
        "        \"mcSeq\": []\n",
        "      }\n",
        "\n",
        "      response = s.get(url, params=params)\n",
        "      response.raise_for_status()  # HTTP 오류 발생 시 예외 발생\n",
        "\n",
        "    pick_month = json.loads(response.text)  # 응답 문자열 반환\n",
        "\n",
        "    for item in pick_month['configListMm']:\n",
        "        if item['cgcquarter'] == month:\n",
        "            cgc_seq = item['cgcSeq']\n",
        "            break  # 첫 번째로 찾은 값만 출력하고 반복문 종료\n",
        "\n",
        "    # 실제 데이터를 추출하기 위한 크롤링\n",
        "    with requests.session() as s:\n",
        "      s.mount(\"https://\", TLSAdapter())\n",
        "\n",
        "      params = {\n",
        "        \"cgcSeq\": cgc_seq,\n",
        "        \"cgcMode\": 25,\n",
        "        \"cgcYyyy\": year,\n",
        "        \"mcSeq\": [31, 96, 1, 106, 14, 13, 12, 98, 502, 108, 619, 11, 97, 105, 103, 22]\n",
        "      }\n",
        "\n",
        "      response = s.get(url, params=params)\n",
        "      response.raise_for_status()  # HTTP 오류 발생 시 예외 발생\n",
        "\n",
        "    data = json.loads(response.text)\n",
        "\n",
        "    pick_data = data[\"resultList\"]\n",
        "    df = pd.DataFrame(pick_data)  # 모든 열을 포함하는 DataFrame 생성\n",
        "\n",
        "    # 원하는 열만 선택\n",
        "    df = df[[\"mcCompany\", \"cgcSeq\", \"cgCardPoint1\", \"cgCardPoint2\", \"cgCardPoint3\"\n",
        "                ,\"cgCardPoint4\", \"cgCardPointAvg\"]] #원하는 열만 남기기\n",
        "\n",
        "    df[\"cgcSeq\"] = f\"{year}{month:02}\" if month < 10 else f\"{year}{month}\"\n",
        "\n",
        "    df.columns = ['사명','공시연월','900점대','800점대','700점대','600점대','평균금리']\n",
        "\n",
        "    df['업권'] = '신용카드업권(카드론)'\n",
        "\n",
        "    df = subtract_month(df, '공시연월', '연월')\n",
        "\n",
        "    df = df[['사명','연월','업권','평균금리','900점대','800점대','700점대','600점대','공시연월']]\n",
        "\n",
        "    return df"
      ],
      "metadata": {
        "id": "KN0PfekfmLr9"
      },
      "execution_count": 8,
      "outputs": []
    },
    {
      "cell_type": "markdown",
      "source": [
        "## 2.2. 현금서비스_신용점수별 금리"
      ],
      "metadata": {
        "id": "Ej_wGuU3mFbX"
      }
    },
    {
      "cell_type": "code",
      "source": [
        "def card_cash_cs(year, month):\n",
        "    url = \"https://gongsi.crefia.or.kr/portal/creditcard/creditcardDisclosureDetail20Ajax\"\n",
        "\n",
        "    # cgc_seq(월)을 찾기 위한 크롤링\n",
        "    with requests.session() as s:\n",
        "      s.mount(\"https://\", TLSAdapter())\n",
        "\n",
        "      params = {\n",
        "        \"cgcSeq\": 1460,\n",
        "        \"cgcMode\": 20,\n",
        "        \"cgcYyyy\": year,\n",
        "        \"mcSeq\": []\n",
        "      }\n",
        "\n",
        "      response = s.get(url, params=params)\n",
        "      response.raise_for_status()  # HTTP 오류 발생 시 예외 발생\n",
        "\n",
        "    pick_month = json.loads(response.text)  # 응답 문자열 반환\n",
        "\n",
        "    for item in pick_month['configListMm']:\n",
        "        if item['cgcquarter'] == month:\n",
        "            cgc_seq = item['cgcSeq']\n",
        "            break  # 첫 번째로 찾은 값만 출력하고 반복문 종료\n",
        "\n",
        "    # 실제 데이터를 추출하기 위한 크롤링\n",
        "    with requests.session() as s:\n",
        "      s.mount(\"https://\", TLSAdapter())\n",
        "\n",
        "      params = {\n",
        "        \"cgcSeq\": cgc_seq,\n",
        "        \"cgcMode\": 20,\n",
        "        \"cgcYyyy\": year,\n",
        "        \"mcSeq\": [31, 96, 1, 106, 14, 13, 12, 98, 502, 108, 619, 11, 97, 105, 103, 22]\n",
        "      }\n",
        "\n",
        "      response = s.get(url, params=params)\n",
        "      response.raise_for_status()  # HTTP 오류 발생 시 예외 발생\n",
        "\n",
        "    data = json.loads(response.text)\n",
        "\n",
        "    pick_data = data[\"resultList\"]\n",
        "    df = pd.DataFrame(pick_data)  # 모든 열을 포함하는 DataFrame 생성\n",
        "\n",
        "    # 원하는 열만 선택\n",
        "    df = df[[\"mcCompany\", \"cgcSeq\", \"cgMoneyPoint1\", \"cgMoneyPoint2\", \"cgMoneyPoint3\"\n",
        "                ,\"cgMoneyPoint4\", \"cgMoneyPointAvg\"]] #원하는 열만 남기기\n",
        "\n",
        "    df[\"cgcSeq\"] = f\"{year}{month:02}\" if month < 10 else f\"{year}{month}\"\n",
        "\n",
        "    df.columns = ['사명','공시연월','900점대','800점대','700점대','600점대','평균금리']\n",
        "\n",
        "    df['업권'] = '신용카드업권(현금서비스)'\n",
        "\n",
        "    df = subtract_month(df, '공시연월', '연월')\n",
        "\n",
        "    df = df[['사명','연월','업권','평균금리','900점대','800점대','700점대','600점대','공시연월']]\n",
        "\n",
        "    return df"
      ],
      "metadata": {
        "id": "DIeTrC15mJ7k"
      },
      "execution_count": 9,
      "outputs": []
    },
    {
      "cell_type": "markdown",
      "source": [
        "# 3. 캐피탈"
      ],
      "metadata": {
        "id": "472smkfsjYu-"
      }
    },
    {
      "cell_type": "markdown",
      "source": [
        "## 3.1. 신용점수별 금리"
      ],
      "metadata": {
        "id": "l74D61GBjiWZ"
      }
    },
    {
      "cell_type": "code",
      "source": [
        "def capital_cs(year, month):\n",
        "    url = \"https://gongsi.crefia.or.kr/portal/creditloan/creditloanDisclosureDetail11/ajax\"\n",
        "\n",
        "    with requests.session() as s:\n",
        "      s.mount(\"https://\", TLSAdapter())\n",
        "\n",
        "      params = {\n",
        "          \"clgcMode\": 11,\n",
        "          \"cardItem\": \"134,39,40,623,130,41,25,156,6,55,32,58,52,61,57,64\",\n",
        "          \"clgcSeq\": 521,\n",
        "          \"clgcYyyy\": 2024\n",
        "      }\n",
        "\n",
        "      response = s.get(url, params=params)\n",
        "      response.raise_for_status()  # HTTP 오류 발생 시 예외 발생\n",
        "\n",
        "    pick_month = json.loads(response.text)  # 응답 문자열 반환\n",
        "\n",
        "    for item in pick_month['configListMm']:\n",
        "        if item['clgcquarter'] == month:\n",
        "            clgc_seq = item['clgcSeq']\n",
        "            break  # 첫 번째로 찾은 값만 출력하고 반복문 종료\n",
        "\n",
        "    # 실제 데이터를 추출하기 위한 크롤링\n",
        "    with requests.session() as s:\n",
        "      s.mount(\"https://\", TLSAdapter())\n",
        "\n",
        "      params = {\n",
        "          \"clgcMode\": 11,\n",
        "          \"cardItem\": \"134,39,40,623,130,41,25,156,6,55,32,58,52,61,57,64\",\n",
        "          \"clgcSeq\": clgc_seq,\n",
        "          \"clgcYyyy\": year\n",
        "      }\n",
        "\n",
        "      response = s.get(url, params=params)\n",
        "      response.raise_for_status()  # HTTP 오류 발생 시 예외 발생\n",
        "\n",
        "    data = json.loads(response.text)\n",
        "\n",
        "    pick_data = data[\"resultList\"]\n",
        "    df = pd.DataFrame(pick_data)  # 모든 열을 포함하는 DataFrame 생성\n",
        "\n",
        "    # 원하는 열만 선택\n",
        "    df = df[[\"mcCompany\", \"clgcSeq\", \"clgPoint1\", \"clgPoint2\", \"clgPoint3\"\n",
        "                ,\"clgPoint4\", \"clgPointAvg\"]] #원하는 열만 남기기\n",
        "\n",
        "    df[\"clgcSeq\"] = f\"{year}{month:02}\" if month < 10 else f\"{year}{month}\"\n",
        "\n",
        "    df.columns = ['사명','공시연월','900점대','800점대','700점대','600점대','평균금리']\n",
        "\n",
        "    df['업권'] = '캐피탈업권'\n",
        "\n",
        "    df = subtract_month(df, '공시연월', '연월')\n",
        "\n",
        "    df = df[['사명','연월','업권','평균금리','900점대','800점대','700점대','600점대','공시연월']]\n",
        "\n",
        "    return df\n"
      ],
      "metadata": {
        "id": "lRXebd3UjoYU"
      },
      "execution_count": 10,
      "outputs": []
    },
    {
      "cell_type": "markdown",
      "source": [
        "# 4. 은행"
      ],
      "metadata": {
        "id": "F7Rbe1Nwceqn"
      }
    },
    {
      "cell_type": "markdown",
      "source": [
        "## 4.1. 신용점수별 금리"
      ],
      "metadata": {
        "id": "KAiLcPkEP5Sd"
      }
    },
    {
      "cell_type": "code",
      "source": [
        "url = \"https://finlife.fss.or.kr/finlife/ldng/indvlCrdt/list.do\"\n",
        "\n",
        "headers = {\n",
        "    \"accept\": \"text/html,application/xhtml+xml,application/xml;q=0.9,image/avif,image/webp,image/apng,*/*;q=0.8,application/signed-exchange;v=b3;q=0.7\",\n",
        "    \"accept-encoding\": \"gzip, deflate, br, zstd\",\n",
        "    \"accept-language\": \"ko-KR,ko;q=0.9,en-US;q=0.8,en;q=0.7\",\n",
        "    \"cache-control\": \"max-age=0\",\n",
        "    \"connection\": \"keep-alive\",\n",
        "    \"content-type\": \"application/x-www-form-urlencoded\",\n",
        "    \"cookie\": \"PCID=17264824031226575657613; RC_RESOLUTION=1710*1112; RC_COLOR=30; WMONID=zABVjou7o3F; JSESSIONID_finlife=p8aPuFguAymOD4Dzdh0mWo35ut91fwG0hBBSBT3xEz3oWejmvDKOUcaBUEFtoIPD.amV1c19kb21haW4vaGZzc3dhczFfZmlubGlmZV9oZnNzd2FzY29uMV9SNEg=\",\n",
        "    \"host\": \"finlife.fss.or.kr\",\n",
        "    \"origin\": \"https://finlife.fss.or.kr\",\n",
        "    \"referer\": \"https://finlife.fss.or.kr/finlife/ldng/indvlCrdt/list.do\",\n",
        "    \"sec-ch-ua\": '\"Google Chrome\";v=\"131\", \"Chromium\";v=\"131\", \"Not_A Brand\";v=\"24\"',\n",
        "    \"sec-ch-ua-mobile\": \"?0\",\n",
        "    \"sec-ch-ua-platform\": '\"macOS\"',\n",
        "    \"sec-fetch-dest\": \"document\",\n",
        "    \"sec-fetch-mode\": \"navigate\",\n",
        "    \"sec-fetch-site\": \"same-origin\",\n",
        "    \"sec-fetch-user\": \"?1\",\n",
        "    \"upgrade-insecure-requests\": \"1\",\n",
        "    \"user-agent\": \"Mozilla/5.0 (Macintosh; Intel Mac OS X 10_15_7) AppleWebKit/537.36 (KHTML, like Gecko) Chrome/131.0.0.0 Safari/537.36\",\n",
        "}\n",
        "\n",
        "payload = {\n",
        "    \"pageType\": \"ajax\",\n",
        "    \"menuNo\": \"700009\",\n",
        "    \"pageIndex\": \"1\",\n",
        "    \"pageSize\": \"50\",\n",
        "    \"pageUnit\": \"50\",\n",
        "    \"total\": \"\",\n",
        "    \"topFinGrpNo\": \"\",\n",
        "    \"crdtLendRateType\": \"\",\n",
        "    \"topFinGrpNoNM\": \"전체\",\n",
        "    \"crdtLendRateTypeNM\": \"\",\n",
        "    \"joinWay\": \"1,2,3,4,5,9\",\n",
        "    \"searchKeyword\": \"\",\n",
        "    \"searchCondition\": \"ALL\",\n",
        "    \"crdtPrdtType\": \"1\",\n",
        "    \"crdtPrdtTypeNM\": \"전체\",\n",
        "    \"listOrder\": \"\",\n",
        "    \"logAdd\": \"Y\",\n",
        "    \"menuId\": \"2000104\",\n",
        "    \"BLTN_ID\": \"BB000000000000000151\",\n",
        "    \"searchFocus\": \"1\",\n",
        "}\n",
        "\n",
        "try:\n",
        "    response = requests.post(url, headers=headers, data=payload)\n",
        "    response.raise_for_status()\n",
        "\n",
        "    soup = BeautifulSoup(response.text, \"html.parser\")\n",
        "    table = soup.find(\"div\", {\"id\": \"ajaxResult\"}).find(\"table\")\n",
        "\n",
        "    if table:\n",
        "        bank_cs = pd.read_html(str(table))[0]\n",
        "\n",
        "    else:\n",
        "        print(\"테이블을 찾을 수 없습니다.\")\n",
        "\n",
        "except requests.exceptions.RequestException as e:\n",
        "    print(f\"오류 발생: {e}\")\n",
        "except Exception as e:\n",
        "    print(f\"알 수 없는 오류 발생: {e}\")\n",
        "\n",
        "bank_cs = bank_cs.dropna(how='all')\n",
        "\n",
        "bank_cs['업권'] = '은행업권'\n",
        "bank_cs['공시연월'] = f\"{year}{month:02}\" if month < 10 else f\"{year}{month}\"\n",
        "bank_cs = subtract_month(bank_cs, '공시연월', '연월')\n",
        "bank_cs = bank_cs[['금융 회사', '연월', '업권', '900점 초과', '801~ 900점', '701~ 800점', '601~ 700점', '평균금리', '공시연월']]\n",
        "bank_cs.columns = ['사명', '연월', '업권', '평균금리', '900점대', '800점대', '700점대', '600점대', '공시연월']\n",
        "bank_cs['평균금리'] = bank_cs['평균금리'].str.replace('%', '')\n",
        "bank_cs['900점대'] = bank_cs['900점대'].str.replace('%', '')\n",
        "bank_cs['800점대'] = bank_cs['800점대'].str.replace('%', '')\n",
        "bank_cs['700점대'] = bank_cs['700점대'].str.replace('%', '')\n",
        "bank_cs['600점대'] = bank_cs['600점대'].str.replace('%', '')\n"
      ],
      "metadata": {
        "colab": {
          "base_uri": "https://localhost:8080/"
        },
        "id": "-ljI1CFoHzsf",
        "outputId": "01edaf59-4d52-4516-ee7a-3eeeea24fb89"
      },
      "execution_count": 11,
      "outputs": [
        {
          "output_type": "stream",
          "name": "stderr",
          "text": [
            "<ipython-input-11-c17b6b670408>:56: FutureWarning: Passing literal html to 'read_html' is deprecated and will be removed in a future version. To read from a literal string, wrap it in a 'StringIO' object.\n",
            "  bank_cs = pd.read_html(str(table))[0]\n"
          ]
        }
      ]
    },
    {
      "cell_type": "markdown",
      "source": [
        "# 5. 데이터 처리 및 다운로드"
      ],
      "metadata": {
        "id": "4owpDReQW3oF"
      }
    },
    {
      "cell_type": "code",
      "source": [
        "file_names = f'SP_INTRATE_{year}{month:02d}.csv'"
      ],
      "metadata": {
        "id": "4fV0dE0Iaw7i"
      },
      "execution_count": 12,
      "outputs": []
    },
    {
      "cell_type": "code",
      "source": [
        "df_1 = savings_cs(year, month)\n",
        "df_2 = card_loan_cs(year, month)\n",
        "df_3 = card_cash_cs(year, month)\n",
        "df_4 = capital_cs(year, month)\n",
        "df_5 = bank_cs\n",
        "\n",
        "df = pd.concat([df_1, df_2, df_3, df_4, df_5], ignore_index=True)\n",
        "df.to_csv(file_names, index=False)"
      ],
      "metadata": {
        "id": "3QPEuOy5W2lc"
      },
      "execution_count": 13,
      "outputs": []
    },
    {
      "cell_type": "code",
      "source": [
        "files.download(file_names)"
      ],
      "metadata": {
        "id": "Age8zC_NW21z",
        "outputId": "f9eed66e-62bd-46df-f241-89ddda59c55c",
        "colab": {
          "base_uri": "https://localhost:8080/",
          "height": 17
        }
      },
      "execution_count": 14,
      "outputs": [
        {
          "output_type": "display_data",
          "data": {
            "text/plain": [
              "<IPython.core.display.Javascript object>"
            ],
            "application/javascript": [
              "\n",
              "    async function download(id, filename, size) {\n",
              "      if (!google.colab.kernel.accessAllowed) {\n",
              "        return;\n",
              "      }\n",
              "      const div = document.createElement('div');\n",
              "      const label = document.createElement('label');\n",
              "      label.textContent = `Downloading \"${filename}\": `;\n",
              "      div.appendChild(label);\n",
              "      const progress = document.createElement('progress');\n",
              "      progress.max = size;\n",
              "      div.appendChild(progress);\n",
              "      document.body.appendChild(div);\n",
              "\n",
              "      const buffers = [];\n",
              "      let downloaded = 0;\n",
              "\n",
              "      const channel = await google.colab.kernel.comms.open(id);\n",
              "      // Send a message to notify the kernel that we're ready.\n",
              "      channel.send({})\n",
              "\n",
              "      for await (const message of channel.messages) {\n",
              "        // Send a message to notify the kernel that we're ready.\n",
              "        channel.send({})\n",
              "        if (message.buffers) {\n",
              "          for (const buffer of message.buffers) {\n",
              "            buffers.push(buffer);\n",
              "            downloaded += buffer.byteLength;\n",
              "            progress.value = downloaded;\n",
              "          }\n",
              "        }\n",
              "      }\n",
              "      const blob = new Blob(buffers, {type: 'application/binary'});\n",
              "      const a = document.createElement('a');\n",
              "      a.href = window.URL.createObjectURL(blob);\n",
              "      a.download = filename;\n",
              "      div.appendChild(a);\n",
              "      a.click();\n",
              "      div.remove();\n",
              "    }\n",
              "  "
            ]
          },
          "metadata": {}
        },
        {
          "output_type": "display_data",
          "data": {
            "text/plain": [
              "<IPython.core.display.Javascript object>"
            ],
            "application/javascript": [
              "download(\"download_382c3214-258d-45f6-8b3a-57c86b44764b\", \"SP_INTRATE_202502.csv\", 7448)"
            ]
          },
          "metadata": {}
        }
      ]
    }
  ]
}