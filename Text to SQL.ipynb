{
  "cells": [
    {
      "cell_type": "markdown",
      "metadata": {
        "id": "view-in-github",
        "colab_type": "text"
      },
      "source": [
        "<a href=\"https://colab.research.google.com/github/kty0307/Blog/blob/main/Text%20to%20SQL.ipynb\" target=\"_parent\"><img src=\"https://colab.research.google.com/assets/colab-badge.svg\" alt=\"Open In Colab\"/></a>"
      ]
    },
    {
      "cell_type": "markdown",
      "source": [
        "# 1. 빅쿼리 연결"
      ],
      "metadata": {
        "id": "AZ6XAJqB9BEQ"
      }
    },
    {
      "cell_type": "markdown",
      "source": [
        "클라우드 빅쿼리에 project_id = 'river-nectar-469806-u4' dataset_id = 'loan' table_id => 'tb_a', 'tb_b', 'tb_c', 'tb_d' 이 정보를 바탕으로 쿼리 생성할 준비 마쳐주세요. 계정연결이 필요한 경우 진행해주세요."
      ],
      "metadata": {
        "id": "jec5gKKaMxdz"
      }
    },
    {
      "cell_type": "markdown",
      "source": [
        "# 2. 테이블 컬럼 명세"
      ],
      "metadata": {
        "id": "C3_olEqj9Axm"
      }
    },
    {
      "cell_type": "markdown",
      "source": [
        "## 2.1. tb_a— 신청 마스터 (Application Master)\n",
        "\n",
        "| 컬럼명 | 한글명 | 타입 (BigQuery) | 값/도메인 | 비고 |\n",
        "|---|---|---|---|---|\n",
        "| `loan_req_id` | 신청번호 | STRING | `R000001` ~ `R300000` | **PK** |\n",
        "| `customer_id` | 고객번호 | STRING | `C000001` ~ `C300000` |  |\n",
        "| `gender` | 성별 | STRING | `남`, `여` |  |\n",
        "| `age` | 나이 | INT64 | 20 ~ 65 | 정수 |\n",
        "| `income` | 소득 | INT64 | 0 ~ 999,999,999 | 원 단위 정수 |\n",
        "| `realestate` | 거주형태 | STRING | `월세`, `전세`, `자가`, `가족과거주` |  |\n",
        "| `occupation_cd` | 직업구분 | STRING | `자영업자`, `급여소득자`, `주부` |  |\n",
        "| `application_date` | 신청일자 | DATE | 2025-04-01 ~ 2025-06-30 |  |\n",
        "| `process_date` | 처리일자 | DATE | 2025-04-01 ~ 2025-06-30 |  |\n",
        "| `inquiry_id` | 선택조회ID | STRING | `B000001`… 또는 NULL | tb_b 참조 |\n",
        "| `final_loan_amount` | 최종대출금액 | FLOAT64 | NULL 또는 ≥ 0 | 실행 시 채움 |\n",
        "| `final_rate` | 최종금리 | FLOAT64 | NULL 또는 > 0 | 실행 시 채움 |\n",
        "| `execution_date` | 대출실행일자 | DATE | 2025-04-01 ~ 2025-06-30 |  |"
      ],
      "metadata": {
        "id": "CrWkAw5u9Akm"
      }
    },
    {
      "cell_type": "markdown",
      "source": [
        "## 2.2. tb_c— 한도/금리 조회 이력 (Limit Inquiry & Offer)\n",
        "\n",
        "| 컬럼명 | 한글명 | 타입 (BigQuery) | 값/도메인 | 비고 |\n",
        "|---|---|---|---|---|\n",
        "| `loan_req_id` | 신청번호 | STRING | `R000001`… | tb_a 참조 |\n",
        "| `inquiry_id` | 한도조회ID | STRING | `B000001`… | 재조회로 다건 가능 |\n",
        "| `table_reg_no` | 등록순번 | INT64 | 1…(증가) | **유일키** |\n",
        "| `product_id` | 상품구분 | STRING | `신용`, `오토` |  |\n",
        "| `cb_score` | CB점수 | INT64 | 0 ~ 999 |  |\n",
        "| `as_grade` | AS등급 | INT64 | 1 ~ 10 |  |\n",
        "| `int_grade` | 금리등급 | INT64 | 1 ~ 6 |  |\n",
        "| `limit_grade` | 한도등급 | INT64 | 1 ~ 6 |  |\n",
        "| `inquiry_date` | 조회일자 | DATE | 2025-04-01 ~ 2025-06-30 |  |\n",
        "| `offer_limit` | 제안한도 | INT64 | 0 또는 양의 정수 | 0 = 부여 없음 |\n",
        "| `offer_rate` | 제안금리 | FLOAT64 | 0 또는 양의 실수 | 0 = 부여 없음 |\n",
        "| `channel` | 채널 | STRING | `Toss`, `Kakao`, `Naver Pay`, `Direct`, `In-Direct` |  |\n",
        "| `seg` | 세그먼트 | STRING | `SEG1`, `SEG2`, `SEG3`, `SEG4`, `SEG5` |  |"
      ],
      "metadata": {
        "id": "bqlNVD7d9ru8"
      }
    },
    {
      "cell_type": "markdown",
      "source": [
        "## 2.3.tb_c — 접수 상세 (Reception Detail)\n",
        "\n",
        "| 컬럼명 | 한글명 | 타입 (BigQuery) | 값/도메인 | 비고 |\n",
        "|---|---|---|---|---|\n",
        "| `loan_req_id` | 신청번호 | STRING | `R000001`… | **PK**, tb_a 참조 |\n",
        "| `reception_yn` | 접수여부 | BOOLEAN | true, false, NULL |  |\n",
        "| `reception_product_id` | 접수상품 | STRING | `신용`, `오토` | tb_b의 `product_id`와 연계 |\n",
        "| `reception_channel` | 접수채널 | STRING | `Toss`, `Kakao`, `Naver Pay`, `Direct`, `In-Direct` |  |\n",
        "\n",
        "​"
      ],
      "metadata": {
        "id": "oHcmwCV397DM"
      }
    },
    {
      "cell_type": "markdown",
      "source": [
        "# 3. 테이블 로직 명세"
      ],
      "metadata": {
        "id": "3l1mFBai-OVC"
      }
    },
    {
      "cell_type": "markdown",
      "source": [
        "테이블 로직 명세 (신청→조회→접수→실행)\n",
        "\n",
        "​\n",
        "\n",
        "본 데이터는 단순 관계가 아니라 실제 업무 흐름을 반영한다. 쿼리/집계는 반드시 이 순서를 전제.\n",
        "\n",
        "​\n",
        "\n",
        "테이블/관계\n",
        "\n",
        "* tb_a(신청): PK=loan_req_id. 주요: application_date, process_date, inquiry_id, final_loan_amount, final_rate, execution_date.\n",
        "\n",
        "* tb_b(한도조회): 유일키=table_reg_no. 동일 inquiry_id 재조회 다수. 주요: loan_req_id, inquiry_id, product_id, channel, inquiry_date, offer_limit, offer_rate.\n",
        "\n",
        "* tb_c(접수): PK=loan_req_id. 주요: reception_yn('Y'/'N'/NULL), reception_product_id, reception_channel.\n",
        "\n",
        "* 관계: A:B=1:N(loan_req_id), A:C=1:1. 최종 선택은 A.inquiry_id = B.inquiry_id. C↔B 연결은 C.loan_req_id=B.loan_req_id AND C.reception_product_id=B.product_id.\n",
        "\n",
        "단계 요약\n",
        "\n",
        "1. 신청: A에 1건 생성(상품/한도 미확정).\n",
        "\n",
        "2. 한도조회: 상품별 제안 다수. B_latest(inquiry_id별 최신 1행) 생성: 정렬 table_reg_no DESC(BQ: ROW_NUMBER… QUALIFY rn=1).\n",
        "\n",
        "3. 접수: 선택 시 C 기록, 미접수도 C에 기록(reception_yn='N').\n",
        "\n",
        "* 집계 축 권장: kpi_channel = COALESCE(C.reception_channel, B_latest.channel), kpi_product = B_latest.product_id.\n",
        "\n",
        "4. 실행: 접수된 건만 실행 기록(final_loan_amount, execution_date). 실행금액 ≤ 선택 제안 offer_limit. 미접수는 실행 NULL.\n",
        "\n",
        "권장 조인\n",
        "\n",
        "* A↔B: A.loan_req_id=B.loan_req_id(1:N), 선택상품은 A.inquiry_id=B.inquiry_id\n",
        "\n",
        "* A↔C: A.loan_req_id=C.loan_req_id(1:1)\n",
        "\n",
        "* C↔B: C.loan_req_id=B.loan_req_id AND C.reception_product_id=B.product_id\n",
        "\n",
        "퍼널/지표 정의\n",
        "\n",
        "* applications = COUNT(A)\n",
        "\n",
        "* with_limit = (B_latest.offer_limit > 0)\n",
        "\n",
        "* receptions = (C.reception_yn='Y')\n",
        "\n",
        "* executions = (A.final_loan_amount IS NOT NULL)\n",
        "\n",
        "무결성/검증\n",
        "\n",
        "* C.reception_yn<>'Y' OR B_latest.offer_limit=0 인데 실행 존재 ⇒ 비정상(0건이어야 함)\n",
        "\n",
        "* final_loan_amount ≤ B_latest.offer_limit\n",
        "\n",
        "* execution_date ≥ process_date\n",
        "\n",
        "날짜/BQ 팁\n",
        "\n",
        "* YYYY-mm-DD Date형\n",
        "\n",
        "* 기준일: 신청=A.application_date, 조회=B_latest.inquiry_date, 접수=A.process_date, 실행=A.execution_date\n",
        "\n",
        "* 기간 필터는 DATE 컬럼에 적용. 대용량은 DATE 파티션(예: application_date, inquiry_date) + CLUSTER BY(inquiry_id, loan_req_id) 권장.\n",
        "\n",
        "예외/보정\n",
        "\n",
        "* A.inquiry_id가 NULL/무효면, 동일 loan_req_id의 (offer_limit>0) 중 최저 금리 inquiry_id로 대체 허용.\n",
        "\n",
        "* 재조회 다수일 때는 항상 B_latest 값만 사용."
      ],
      "metadata": {
        "id": "Ktfe1dfvM5-z"
      }
    },
    {
      "cell_type": "markdown",
      "source": [
        "# 4. 분석"
      ],
      "metadata": {
        "id": "FdD4t2lVL0nJ"
      }
    }
  ],
  "metadata": {
    "colab": {
      "name": "Colab 시작하기",
      "toc_visible": true,
      "provenance": [],
      "include_colab_link": true
    },
    "kernelspec": {
      "display_name": "Python 3",
      "name": "python3"
    }
  },
  "nbformat": 4,
  "nbformat_minor": 0
}